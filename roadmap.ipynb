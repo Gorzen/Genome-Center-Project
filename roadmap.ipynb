{
 "cells": [
  {
   "cell_type": "markdown",
   "metadata": {},
   "source": [
    "# Project roadmap and code"
   ]
  },
  {
   "cell_type": "markdown",
   "metadata": {},
   "source": [
    "## Table of contents\n",
    "1. [Questions](#1\\.-Questions)\n",
    "2. [Schedule](#2\\.-Schedule)\n",
    "3. [Documentation and first hands-on](#3\\.-Documentation-and-first-hands-on)\n",
    "4. [Data generation](#4\\.-Data-generation)\n",
    "5. [Data processing](#5\\.-Data-processing)\n",
    "6. [Machine learning](#6\\.-Machine-learning)"
   ]
  },
  {
   "cell_type": "markdown",
   "metadata": {},
   "source": [
    "## 1. Questions\n",
    "\n",
    "Questions I wonder are grouped here:\n",
    "\n",
    "- *In IGV usage*: **Question:** I'm not sure how to understand the vcf file in IGV, how do I know if it's an insertion or a deletion? Do the files I loaded correspond to one another? ✔️\n",
    "- *In Data processing*: **Question:** Since we 'stream' data what's the best way to split train/test. Split certain positions? Split while iterating over batches? Train on chromosome 2, test on chromosome 1? ✔️\n",
    "- *In Data processing*: **Question:** Some positions aren't found in the bedgraphs. Should put to 0 or -1 or another value?\n",
    "- *In Data processing*: **Question:** Is window size 101 actually reasonable?\n",
    "- *In Machine learning*: **Question:** How good are the results?"
   ]
  },
  {
   "cell_type": "markdown",
   "metadata": {},
   "source": [
    "## 2. Schedule\n",
    "\n",
    "### Week 1\n",
    "- Meeting and get in touch with colleagues and Rick's work ✔️\n",
    "- Download data and visualize with IGV ✔️\n",
    "- Get in touch with formats (vcf, bam, ...) ✔️\n",
    "- Read gnomAD paper ✔️\n",
    "\n",
    "### Week 2\n",
    "- Look at how they extract their features in the papers ✔️\n",
    "- Extract data with Canevas from one genome of Genome in a Bottle ✔️\n",
    "- Load data and pre-process it if needed ✔️\n",
    "- Process data in python, vcf, signals data ✔️\n",
    "\n",
    "### Week 3\n",
    "- Check different approaches taken by papers to maybe take inspiration of window sizes or similar ✔️\n",
    "- Filter VCF to event that pass filters ✔️\n",
    "- Generate data by taking breakpoints of vcf and computing windows around them and windows with no events ✔️\n",
    "- Split tain test ✔️\n",
    "- Train model (deep net or random forest) ✔️\n",
    "\n",
    "### Week 4\n",
    "- Download bam from curated VCF paper (if linked) for HG02\n",
    "- Dowload curated VCF from paper\n",
    "- Generate data for HG02\n",
    "- Test the model I have on HG02 to compare performance (random or not?)\n",
    "- Re-train the model on HG02 to check feature importance and performance to have a first idea of it's really dependent on genome"
   ]
  },
  {
   "cell_type": "markdown",
   "metadata": {},
   "source": [
    "## 3. Documentation and first hands-on\n",
    "\n",
    "This section will contain the steps done towards documentation, data exploration, IGV usage"
   ]
  },
  {
   "cell_type": "markdown",
   "metadata": {},
   "source": [
    "### IGV usage\n",
    "\n",
    "First, I downloaded [IGV 2.8.3](http://software.broadinstitute.org/software/igv/download) for Linux\n",
    "\n",
    "Then I downloaded this data [here](ftp://ftp-trace.ncbi.nlm.nih.gov/ReferenceSamples/giab/data/NA12878/NA12878_PacBio_MtSinai/) from [Genome in a Bottle](https://www.nist.gov/programs-projects/genome-bottle):\n",
    "- `NA12878.sorted.vcf.gz`\n",
    "- `NA12878.sorted.vcf.gz.tbi`\n",
    "- `README.txt`\n",
    "- `merged_ec_output_primary.bam`\n",
    "- `merged_ec_output_primary.bam.bai`\n",
    "\n",
    "I tried to load `NA12878.sorted.vcf.gz` and `merged_ec_output_primary.bam` in IGV but there was a parsing error in the vcf file:\n",
    "- I realized line 4 `#contig=<ID=chr1,...` was missing a `#` at the begginning\n",
    "- I had to change the spaces in the header line to `\\t`\n",
    "\n",
    "I then was able to load the two files in IGV and have a visualization:\n",
    "\n",
    "**Question:** I'm not sure how to understand the vcf file in IGV, how do I know if it's an insertion or a deletion? Do the files I loaded correspond to one another?"
   ]
  },
  {
   "cell_type": "markdown",
   "metadata": {},
   "source": [
    "![IGV image](images/igv-NA12878-1.png)"
   ]
  },
  {
   "cell_type": "markdown",
   "metadata": {},
   "source": [
    "## 4. Data generation\n",
    "\n",
    "This section will contain the steps done towards data creation with [Canevas](https://github.com/rick-heig/canevas), different filters used"
   ]
  },
  {
   "cell_type": "markdown",
   "metadata": {},
   "source": [
    "The `bam` file `merged_ec_output_primary.bam` I had was in long reads, thus it wasn't usable in Canevas and wasn't the format we want.\n",
    "\n",
    "I asked the Genome Center for a short reads `bam` file on one chromosome and for now Rick gave me data generated with Canevas on `Guipponi.NA12878-A.mdup.sorted.bam.bqsr.bam` for chromosome 21 to start with\n",
    "\n",
    "I then downloaded the `RMNISTHS_30xdownsample.bam` at ftp://ftp-trace.ncbi.nlm.nih.gov/giab/ftp/data/NA12878/NIST_NA12878_HG001_HiSeq_300x/ and extracted the features for chromosome 2, using Canevas and this very command:\n",
    "\n",
    "`sbt run signal extract -b /home/lulu/Documents/Work/genome-center/data/RMNISTHS_30xdownsample.bam -o out -r 2`"
   ]
  },
  {
   "cell_type": "code",
   "execution_count": null,
   "metadata": {},
   "outputs": [],
   "source": []
  },
  {
   "cell_type": "markdown",
   "metadata": {},
   "source": [
    "## 5. Data processing\n",
    "\n",
    "This section will contain the steps done towards data processing in order to use it in the machine learning pipeline"
   ]
  },
  {
   "cell_type": "markdown",
   "metadata": {},
   "source": [
    "There is a *lot* of data, we can't load all signals for the whole chromosome at the same time.\n",
    "\n",
    "When training, we have to get part of the data, train on it and get next chunk. Otherwise we won't have enough memory\n",
    "\n",
    "To do that, I decided to go for an object-oriented approach, since I want the 'readers' to have states. I ask for the next batch and it returns it, keeping the next values already loaded.\n",
    "\n",
    "That way later I should be able to load a batch of each signal, split the batch in mini_batches, train the model on them and then load the next batches.\n",
    "\n",
    "I added MultiSignal to combine signals easily and get multiple batches.\n",
    "\n",
    "Then I added a `SignalExtractor` for VCF, given a vcf file, when requested a batch it would say which positions were deleted. First I had a `np.vectorize` function to do that, similar to a map; that checked each position in the vcf file. But it was slow, so I changed to a broadcasting way where I utilize numpy's way of doing it, which greatly sped up running time.\n",
    "\n",
    "**Version 2.0**:\n",
    "After talking, we realized it was better to check positions with deletions, select positions with no deletions and get data for these points in order to generate data. Instead of reading all batches one by one to generate data. So we need to, given positions, retrieve signal's data. So a signal will take some positions and retrieve all the windows for these positions.\n",
    "\n",
    "\n",
    "**Version 2.1**:\n",
    "Version 2.0 was slow, using the `line_profiler` I analyzed the code to see the slow steps and reworked the code to have a fast bedgraph reader. (Some `line_profiler` output are presented in the next cells):\n",
    "- Since by reading chunks we'll go through most of the bedgraph, it's better to give all positions at once, to go through the file only once\n",
    "- Using skiprows is in fact very slow, it's way faster to use `TextFileReader` that has a `get_chunk` function. It's faster because it keeps the last position it was at, whereas skiprows goes through the file.\n",
    "- Numpy is faster at retrieving specific values but pandas is convenient. So I use pandas and then use `.values` for crucial steps\n",
    "- Binary search is faster than broadcasting to find the value for a pos\n",
    "- Don't search for positions that aren't in chunk\n",
    "- Parallelize signals reading\n",
    "\n",
    "The `applymap` to fill in values used to take 99% of time, after all this reworking, reading is the slowest part of the algorithm. But the `TextFileReader` is by far the fastest way I've seen.\n",
    "\n",
    "Some values aren't in the bedgraph, so I assume they are 0. Maybe should assume they are -1?\n",
    "\n",
    "Window size of 100 seems reasonable according to [A Deep Learning Approach for Detecting Copy Number Variation in Next-Generation Sequencing Data](https://lulix.net/~lcerutti/notes2/notes/lcerutti/Notebook/yfxOvpdrvuQu/files/2019-A_Deep_Learning_Approach_for_Detecting_Copy_Number_Variation_in_Next-Generation_Sequencing_Data.pdf)\n",
    "\n",
    "Clean code and modify such that it is easy to load other signals and vcf to generate train/test data"
   ]
  },
  {
   "cell_type": "markdown",
   "metadata": {
    "collapsed": "true"
   },
   "source": [
    "### Version 1 (deprecated)"
   ]
  },
  {
   "cell_type": "code",
   "execution_count": 1,
   "metadata": {},
   "outputs": [],
   "source": [
    "%load_ext line_profiler\n",
    "\n",
    "import time\n",
    "import numpy as np\n",
    "import pandas as pd\n",
    "import matplotlib.pyplot as plt\n",
    "from pybedtools import BedTool"
   ]
  },
  {
   "cell_type": "code",
   "execution_count": 2,
   "metadata": {},
   "outputs": [],
   "source": [
    "metadata_size = 3 # Number of metadata lines in bedgraph\n",
    "\n",
    "chunk_size = 10000 # Number of lines read on bedgraph per iter\n",
    "batch_size = 1000 # Number of values returned by SignalExtractor when asked for a batch"
   ]
  },
  {
   "cell_type": "code",
   "execution_count": 3,
   "metadata": {},
   "outputs": [],
   "source": [
    "class SignalExtractor():\n",
    "    def get_next_batch(self):\n",
    "        raise NotImplementedError\n",
    "        \n",
    "    def has_next(self):\n",
    "        raise NotImplementedError\n",
    "        \n",
    "    def reset(self):\n",
    "        raise NotImplementedError"
   ]
  },
  {
   "cell_type": "code",
   "execution_count": 4,
   "metadata": {},
   "outputs": [],
   "source": [
    "class SingleSignalExtractor(SignalExtractor):\n",
    "    def __init__(self, bedgraph, data_dir='data/', metadata_size=metadata_size):\n",
    "        self.bedgraph = BedTool(f'{data_dir}{bedgraph}')\n",
    "        self.metadata_size = metadata_size\n",
    "        self.skiprows = metadata_size # Remove metadata\n",
    "        self.chunks_available = True\n",
    "        self.batch_available = True\n",
    "        self.remaining_values = np.array([])\n",
    "        \n",
    "        \n",
    "    def get_next_batch(self):\n",
    "        \"\"\"\n",
    "        Get next batch, which will have the `batch_size` next values. Can be smaller if there aren't enough values left\n",
    "        \"\"\"\n",
    "        assert(self.has_next())\n",
    "        \n",
    "        if self.remaining_values.shape[0] >= batch_size:\n",
    "            # There are enough values already read\n",
    "            temp = self.remaining_values[:batch_size]\n",
    "            self.remaining_values = self.remaining_values[batch_size:]\n",
    "            return temp\n",
    "        \n",
    "        # Read next values\n",
    "        df = self.bedgraph.to_dataframe(skiprows=self.skiprows, nrows=chunk_size)\n",
    "        assert(df.isnull().sum().sum() == 0) # Check no missing values\n",
    "        self.skiprows += len(df)\n",
    "        \n",
    "        # If there aren't as many rows as asked for, we are at the end of the file\n",
    "        if len(df) < chunk_size:\n",
    "            self.chunks_available = False\n",
    "        \n",
    "        # Repeat values the stated amount of time, since we want a continuous array of data\n",
    "        df['repeat'] = df['end'] - df['start']\n",
    "        df = df.drop(columns=['chrom', 'start', 'end'])\n",
    "        df = df.reindex(df.index.repeat(df['repeat'])).reset_index(drop=True)\n",
    "        df = df.drop(columns=['repeat'])\n",
    "        \n",
    "        # Put values in numpy and concatenate with previously loaded data\n",
    "        values = df['name'].values\n",
    "        values = np.concatenate([self.remaining_values, values])\n",
    "        \n",
    "        # Save remaining values and return batch\n",
    "        self.remaining_values = values[batch_size:]\n",
    "        \n",
    "        self.batch_available = len(self.remaining_values) >= batch_size\n",
    "        \n",
    "        return values[:batch_size]\n",
    "        \n",
    "        \n",
    "    def has_next(self):\n",
    "        return self.chunks_available or self.batch_available\n",
    "        \n",
    "        \n",
    "    def reset(self):\n",
    "        self.skiprows = self.metadata_size\n",
    "        self.chunks_available = True\n",
    "        self.remaining_values = np.array([])"
   ]
  },
  {
   "cell_type": "code",
   "execution_count": 5,
   "metadata": {},
   "outputs": [],
   "source": [
    "class MultiSignalExtractors(SignalExtractor):\n",
    "    \"\"\"\n",
    "    Helper class to easily combine multiple signal extractors\n",
    "    \"\"\"\n",
    "    def __init__(self, bedgraphs):\n",
    "        self.signals = []\n",
    "        \n",
    "        for bedgraph in bedgraphs:\n",
    "            if isinstance(bedgraph, SignalExtractor):\n",
    "                self.signals.append(bedgraph)\n",
    "            elif isinstance(bedgraph, str):\n",
    "                self.signals.append(SingleSignalExtractor(bedgraph))\n",
    "            else:\n",
    "                raise ValueError\n",
    "        \n",
    "        \n",
    "    def get_next_batch(self):\n",
    "        \"\"\"\n",
    "        Get next batch for each signal and return them\n",
    "        \"\"\"\n",
    "        batches = [signal.get_next_batch() for signal in self.signals]\n",
    "        return np.stack(batches)\n",
    "        \n",
    "        \n",
    "    def has_next(self):\n",
    "        for signal in self.signals:\n",
    "            if not signal.has_next():\n",
    "                return False\n",
    "        \n",
    "        return True\n",
    "        \n",
    "        \n",
    "    def reset(self):\n",
    "        for signal in self.signals:\n",
    "            signal.reset()"
   ]
  },
  {
   "cell_type": "code",
   "execution_count": 6,
   "metadata": {},
   "outputs": [],
   "source": [
    "class VCFSignalExtractor(SignalExtractor):\n",
    "    def __init__(self, vcf, data_dir='data/'):\n",
    "        self.data = pd.read_table(f'{data_dir}{vcf}',\n",
    "                                  skiprows=1,\n",
    "                                  names=['chrom', 'pos', 'id', 'ref', 'alt', 'qual', 'filter', 'info', 'format', 'NA12878'],\n",
    "                                  na_values='.')\n",
    "    \n",
    "        self.data = self.data[self.data['alt'] == '<DEL>'] # Only keep deletions\n",
    "        self.data = self.data[self.data['filter'] == 'PASS'] # Only take variants that pass at least 3 filters\n",
    "        self.data['end'] = self.data['info'].str.extract(r'^.*END=(\\d+);.*$').astype(int)\n",
    "        self.data = self.data.drop(columns=['id', 'ref', 'alt', 'qual', 'filter', 'info', 'format', 'NA12878'])\n",
    "        self.data = self.data.rename(columns={'pos': 'start'})\n",
    "        self.data = self.data.reset_index(drop=True)\n",
    "                \n",
    "        self.current_index = 0\n",
    "        self.last_returned_pos = 0\n",
    "        \n",
    "    \n",
    "    def _classify_batch(self, batch, requested_pos):\n",
    "        \"\"\"\n",
    "        With broadcasting, check if positions are in-between a start-end pair or not and classify them\n",
    "        All positions are >= 0, so while processing values >= 0 are not classified yet\n",
    "            During computation:\n",
    "            - `-2` means no deletion\n",
    "            - `-1` means deletion\n",
    "        \"\"\"\n",
    "        index = self.current_index\n",
    "        while np.sum(batch >= 0) > 0:\n",
    "            if index >= len(self.data):\n",
    "                # No more data in vcf, so assume there are no deletions afterwards \n",
    "                batch[batch >= 0] = -2\n",
    "            else:\n",
    "                _, start, end = self.data.loc[index]\n",
    "                \n",
    "                # Before start, so if it wasn't classified yet, it's not deleted\n",
    "                batch[(batch >= 0) & (batch < start)] = -2\n",
    "                \n",
    "                # Before end, so if it wasn't classified yet, it's between start and end -> deleted\n",
    "                batch[(batch >= 0) & (batch < end)] = -1\n",
    "                \n",
    "                if end < requested_pos:\n",
    "                    # Line is no longer needed, as we are further than it\n",
    "                    self.current_index += 1\n",
    "                \n",
    "                index += 1\n",
    "        \n",
    "    \n",
    "    def get_next_batch(self):\n",
    "        requested_pos = self.last_returned_pos + batch_size\n",
    "        \n",
    "        if self.current_index >= len(self.data):\n",
    "            # No more data in vcf, so assume there are no deletions afterwards\n",
    "            self.last_returned_pos = requested_pos\n",
    "            return np.zeros(batch_size)\n",
    "        \n",
    "        batch = np.arange(self.last_returned_pos, requested_pos)\n",
    "        \n",
    "        self._classify_batch(batch, requested_pos)\n",
    "        \n",
    "        # Convert temporary values used\n",
    "        batch[batch == -2] = 0\n",
    "        batch[batch == -1] = 1\n",
    "        \n",
    "        self.last_returned_pos = requested_pos\n",
    "        return batch\n",
    "        \n",
    "        \n",
    "    def has_next(self):\n",
    "        # Always has_next since we assume that if there is no data left in vcf, there are no deletions\n",
    "        return True\n",
    "        \n",
    "        \n",
    "    def reset(self):\n",
    "        self.current_index = 0\n",
    "        self.last_returned_pos = 0"
   ]
  },
  {
   "cell_type": "code",
   "execution_count": 7,
   "metadata": {},
   "outputs": [],
   "source": [
    "signals = [\n",
    "    VCFSignalExtractor('NA12878.sorted.chr2.vcf'),\n",
    "    '2_CigarIndels.bedgraph.gz',\n",
    "    '2_Clipped.bedgraph.gz',\n",
    "    '2_Coverage.bedgraph.gz',\n",
    "    '2_DiscordantTandemOrientation.bedgraph.gz',\n",
    "    '2_ForwardInsertSizeTooBig.bedgraph.gz',\n",
    "    '2_InsertSizeTooBig.bedgraph.gz',\n",
    "    '2_InsertSizeTooSmall.bedgraph.gz',\n",
    "    '2_InterChr.bedgraph.gz',\n",
    "    '2_MappingErrors.bedgraph.gz',\n",
    "    '2_MAPQ0.bedgraph.gz',\n",
    "    '2_MateUnmapped.bedgraph.gz'\n",
    "]\n",
    "\n",
    "signal_extractor = MultiSignalExtractors(signals)"
   ]
  },
  {
   "cell_type": "code",
   "execution_count": 8,
   "metadata": {},
   "outputs": [
    {
     "name": "stdout",
     "output_type": "stream",
     "text": [
      "CPU times: user 2.11 s, sys: 460 ms, total: 2.57 s\n",
      "Wall time: 2.59 s\n"
     ]
    }
   ],
   "source": [
    "%%time\n",
    "\n",
    "batch = np.zeros((len(signals), batch_size))\n",
    "\n",
    "while np.sum(batch[0, :]) == 0: # Iterate until we have a deletion\n",
    "    batch = signal_extractor.get_next_batch()"
   ]
  },
  {
   "cell_type": "code",
   "execution_count": 9,
   "metadata": {},
   "outputs": [
    {
     "data": {
      "image/png": "[encoded data removed]",
      "text/plain": [
       "<Figure size 1440x1152 with 1 Axes>"
      ]
     },
     "metadata": {
      "needs_background": "light"
     },
     "output_type": "display_data"
    }
   ],
   "source": [
    "plt.figure(figsize=(10, 8), dpi=144)\n",
    "\n",
    "x = np.arange(-batch_size, 0) + signals[0].last_returned_pos\n",
    "\n",
    "plt.plot(x, batch[0]*np.max(batch), label='Deletion', color='black')\n",
    "\n",
    "\n",
    "for i, signal in enumerate(batch[1:]):\n",
    "    name = signals[i+1]\n",
    "    plt.plot(x, signal, label=name)\n",
    "    \n",
    "plt.xlabel('position')\n",
    "plt.ylabel('value')\n",
    "plt.legend(fontsize=6)\n",
    "plt.show()"
   ]
  },
  {
   "cell_type": "markdown",
   "metadata": {
    "collapsed": "true"
   },
   "source": [
    "### Version 2.0 (deprecated)"
   ]
  },
  {
   "cell_type": "code",
   "execution_count": 111,
   "metadata": {},
   "outputs": [],
   "source": [
    "class SingleSignalExtractor(SignalExtractor):\n",
    "    def __init__(self, bedgraph, data_dir='data/', chunk_size=100, metadata_size=metadata_size):\n",
    "        self.bedgraph = BedTool(f'{data_dir}{bedgraph}')\n",
    "        self.metadata_size = metadata_size\n",
    "        self.chunk_size = chunk_size\n",
    "        self.data = \n",
    "        \n",
    "        \n",
    "    def _pos_in_df(self, df, pos):\n",
    "        return ((df['start'] <= pos) &\n",
    "                (df['end'] >= pos))\n",
    "        \n",
    "        \n",
    "    def get_window(self, pos):\n",
    "        \"\"\"\n",
    "        Get next batch, which will have the `batch_size` next values. Can be smaller if there aren't enough values left\n",
    "        \"\"\"\n",
    "        start, end = get_start_end_window(pos)\n",
    "        \n",
    "        skiprows = self.metadata_size\n",
    "        nrows = self.chunk_size\n",
    "        \n",
    "        # Search start\n",
    "        while True:\n",
    "            print(skiprows, nrows)\n",
    "            df = self.bedgraph.to_dataframe(skiprows=skiprows, nrows=nrows)\n",
    "            if len(df) == 0:\n",
    "                skiprows -= int(step/2)\n",
    "            else:\n",
    "                in_range = self._pos_in_df(df, start)\n",
    "                if in_range.sum() > 0:\n",
    "                    break\n",
    "\n",
    "                chunk_start = df['start'].values[0]\n",
    "                line_average_size = (df['end'] - df['start']).mean()\n",
    "\n",
    "                too_far = chunk_start > start\n",
    "\n",
    "                step = int(abs(start - chunk_start) / line_average_size)\n",
    "                step = max(nrows, step)\n",
    "\n",
    "                if too_far:\n",
    "                    step = -step\n",
    "\n",
    "                skiprows += step\n",
    "            \n",
    "        skiprows += np.argmax(in_range.values) # Go to start\n",
    "        \n",
    "        # Search end\n",
    "        while not (in_range := self._pos_in_df(self.bedgraph.to_dataframe(skiprows=skiprows,\\\n",
    "                                                                          nrows=nrows,\\\n",
    "                                                                          usecols=['start', 'end']), end)).sum() > 0:\n",
    "            nrows += nrows\n",
    "            \n",
    "        \n",
    "        nrows = np.argmax(in_range.values)+1 # Go until end\n",
    "        \n",
    "        df = self.bedgraph.to_dataframe(skiprows=skiprows, nrows=nrows, usecols=['start', 'end', 'name'])\n",
    "        \n",
    "        assert(df.isnull().sum().sum() == 0) # Check no missing values\n",
    "        \n",
    "        window = np.arange(start, end+1)\n",
    "        \n",
    "        for i, row in df.iterrows():\n",
    "            row_start = row['start']\n",
    "            row_end = row['end']\n",
    "            row_value = row['name']\n",
    "            \n",
    "            window[(window >= row_start) & (window <= row_end)] = -row_value\n",
    "        \n",
    "        window = -window\n",
    "        \n",
    "        return window"
   ]
  },
  {
   "cell_type": "code",
   "execution_count": 112,
   "metadata": {},
   "outputs": [
    {
     "name": "stdout",
     "output_type": "stream",
     "text": [
      "3 100\n",
      "1741283 100\n",
      "1855667 100\n",
      "1939816 100\n",
      "1955050 100\n",
      "1952886 100\n",
      "1952708 100\n"
     ]
    },
    {
     "data": {
      "text/plain": [
       "Timer unit: 1e-06 s\n",
       "\n",
       "Total time: 2.32161 s\n",
       "File: <ipython-input-111-b571b325cab2>\n",
       "Function: get_window at line 13\n",
       "\n",
       "Line #      Hits         Time  Per Hit   % Time  Line Contents\n",
       "==============================================================\n",
       "    13                                               def get_window(self, pos):\n",
       "    14                                                   \"\"\"\n",
       "    15                                                   Get next batch, which will have the `batch_size` next values. Can be smaller if there aren't enough values left\n",
       "    16                                                   \"\"\"\n",
       "    17         1          5.0      5.0      0.0          start, end = get_start_end_window(pos)\n",
       "    18                                                   \n",
       "    19         1          1.0      1.0      0.0          skiprows = self.metadata_size\n",
       "    20         1          1.0      1.0      0.0          nrows = self.chunk_size\n",
       "    21                                                   \n",
       "    22                                                   # Search start\n",
       "    23                                                   while True:\n",
       "    24         7        798.0    114.0      0.0              print(skiprows, nrows)\n",
       "    25         7    1740923.0 248703.3     75.0              df = self.bedgraph.to_dataframe(skiprows=skiprows, nrows=nrows)\n",
       "    26         7         38.0      5.4      0.0              if len(df) == 0:\n",
       "    27                                                           skiprows -= int(step/2)\n",
       "    28                                                       else:\n",
       "    29         7       4950.0    707.1      0.2                  in_range = self._pos_in_df(df, start)\n",
       "    30         7       1086.0    155.1      0.0                  if in_range.sum() > 0:\n",
       "    31         1          1.0      1.0      0.0                      break\n",
       "    32                                           \n",
       "    33         6         77.0     12.8      0.0                  chunk_start = df['start'].values[0]\n",
       "    34         6       2607.0    434.5      0.1                  line_average_size = (df['end'] - df['start']).mean()\n",
       "    35                                           \n",
       "    36         6         36.0      6.0      0.0                  too_far = chunk_start > start\n",
       "    37                                           \n",
       "    38         6         41.0      6.8      0.0                  step = int(abs(start - chunk_start) / line_average_size)\n",
       "    39         6          8.0      1.3      0.0                  step = max(nrows, step)\n",
       "    40                                           \n",
       "    41         6          3.0      0.5      0.0                  if too_far:\n",
       "    42         2          1.0      0.5      0.0                      step = -step\n",
       "    43                                           \n",
       "    44         6          2.0      0.3      0.0                  skiprows += step\n",
       "    45                                                       \n",
       "    46         1         12.0     12.0      0.0          skiprows += np.argmax(in_range.values) # Go to start\n",
       "    47                                                   \n",
       "    48                                                   # Search end\n",
       "    49         4     284869.0  71217.2     12.3          while not (in_range := self._pos_in_df(self.bedgraph.to_dataframe(skiprows=skiprows,\\\n",
       "    50         1          1.0      1.0      0.0                                                                            nrows=nrows,\\\n",
       "    51         3          3.0      1.0      0.0                                                                            usecols=['start', 'end']), end)).sum() > 0:\n",
       "    52                                                       nrows += nrows\n",
       "    53                                                       \n",
       "    54                                                   \n",
       "    55         1         11.0     11.0      0.0          nrows = np.argmax(in_range.values)+1 # Go until end\n",
       "    56                                                   \n",
       "    57         1     284412.0 284412.0     12.3          df = self.bedgraph.to_dataframe(skiprows=skiprows, nrows=nrows, usecols=['start', 'end', 'name'])\n",
       "    58                                                   \n",
       "    59         1        616.0    616.0      0.0          assert(df.isnull().sum().sum() == 0) # Check no missing values\n",
       "    60                                                   \n",
       "    61         1          4.0      4.0      0.0          window = np.arange(start, end+1)\n",
       "    62                                                   \n",
       "    63         6        669.0    111.5      0.0          for i, row in df.iterrows():\n",
       "    64         5        163.0     32.6      0.0              row_start = row['start']\n",
       "    65         5        112.0     22.4      0.0              row_end = row['end']\n",
       "    66         5        101.0     20.2      0.0              row_value = row['name']\n",
       "    67                                                       \n",
       "    68         5         54.0     10.8      0.0              window[(window >= row_start) & (window <= row_end)] = -row_value\n",
       "    69                                                   \n",
       "    70         1          2.0      2.0      0.0          window = -window\n",
       "    71                                                   \n",
       "    72         1          0.0      0.0      0.0          return window"
      ]
     },
     "metadata": {},
     "output_type": "display_data"
    }
   ],
   "source": [
    "%lprun -f SingleSignalExtractor.get_window SingleSignalExtractor('2_MappingErrors.bedgraph.gz').get_window(20000000)"
   ]
  },
  {
   "cell_type": "markdown",
   "metadata": {},
   "source": [
    "### Version 2.1"
   ]
  },
  {
   "cell_type": "code",
   "execution_count": 1,
   "metadata": {},
   "outputs": [],
   "source": [
    "%load_ext line_profiler\n",
    "%load_ext autoreload\n",
    "\n",
    "%autoreload 2\n",
    "\n",
    "import time\n",
    "from collections import defaultdict\n",
    "import multiprocessing\n",
    "import numpy as np\n",
    "import pandas as pd\n",
    "import matplotlib.pyplot as plt\n",
    "from pybedtools import BedTool\n",
    "from sklearn.model_selection import train_test_split"
   ]
  },
  {
   "cell_type": "code",
   "execution_count": 2,
   "metadata": {},
   "outputs": [],
   "source": [
    "n_jobs = 8 # Number of cores\n",
    "random_state = 42 # Seed\n",
    "metadata_size = 3 # Number of metadata lines in bedgraph\n",
    "window_size = 101\n",
    "assert(window_size >= 3 and window_size % 2 == 1) # Check odd number"
   ]
  },
  {
   "cell_type": "code",
   "execution_count": 3,
   "metadata": {},
   "outputs": [],
   "source": [
    "def get_start_end_window(pos):\n",
    "    start = pos - (window_size-1)/2\n",
    "    end = pos + (window_size-1)/2\n",
    "    return start, end"
   ]
  },
  {
   "cell_type": "code",
   "execution_count": 4,
   "metadata": {},
   "outputs": [],
   "source": [
    "class SignalExtractor():\n",
    "    def get_windows(self, positions):\n",
    "        raise NotImplementedError"
   ]
  },
  {
   "cell_type": "code",
   "execution_count": 5,
   "metadata": {},
   "outputs": [],
   "source": [
    "class SingleSignalExtractor(SignalExtractor):\n",
    "    def __init__(self, bedgraph, data_dir='data/', metadata_size=metadata_size, chunk_size=1000000):\n",
    "        self.bedgraph = BedTool(f'{data_dir}{bedgraph}')\n",
    "        self.metadata_size = metadata_size\n",
    "        self.name = bedgraph.split('.')[0].split('_')[-1]\n",
    "        \n",
    "        self.chunk_size = chunk_size\n",
    "        self.last_chunk_size = chunk_size\n",
    "        \n",
    "        self.dict = defaultdict(lambda: None)\n",
    "        \n",
    "    \n",
    "    def _print_progress(self, progress):\n",
    "        print(f\"Signal {self.name} {progress:.1f}% complete\")\n",
    "        \n",
    "        \n",
    "    def _pos_in_df(self, values, pos):\n",
    "        if pd.isna(pos):\n",
    "            return pd.NA\n",
    "        \n",
    "        left = 0\n",
    "        right = values.shape[0] - 1        \n",
    "        \n",
    "        while left <= right:\n",
    "            mid = int((right - left) / 2) + left            \n",
    "            \n",
    "            start = values[mid, 0]\n",
    "            end = values[mid, 1]\n",
    "            \n",
    "            if start <= pos and pos <= end:\n",
    "                return mid\n",
    "            elif end <= pos:\n",
    "                if left == mid:\n",
    "                    mid += 1\n",
    "                left = mid\n",
    "            elif start >= pos:\n",
    "                if right == mid:\n",
    "                    mid -= 1\n",
    "                right = mid\n",
    "            else:\n",
    "                raise ValueError\n",
    "        \n",
    "        return pd.NA\n",
    "    \n",
    "    \n",
    "    def _fill_value(self, pos, chunk_values):        \n",
    "        if pd.isna(pos) or pos <= 0:\n",
    "            return pos\n",
    "        \n",
    "        start_chunk = chunk_values[0, 0]\n",
    "        end_chunk = chunk_values[-1, 1]\n",
    "        \n",
    "        if pos < start_chunk or pos > end_chunk:\n",
    "            # pos not in chunk\n",
    "            return pos\n",
    "        \n",
    "        value = self.dict[pos]\n",
    "        \n",
    "        if value != None:\n",
    "            return value\n",
    "        \n",
    "        index = self._pos_in_df(chunk_values, pos)\n",
    "        \n",
    "        if pd.isna(index):\n",
    "            return pd.NA # Value not in bedgraph\n",
    "        \n",
    "        row = chunk_values[index]\n",
    "        \n",
    "        start = row[0]\n",
    "        end = row[1]\n",
    "        value = -row[2]\n",
    "\n",
    "        for i in range(start, end+1):\n",
    "            self.dict[i] = value\n",
    "\n",
    "        return value\n",
    "        \n",
    "        \n",
    "    def get_windows(self, positions, prefix_str=\"\"):\n",
    "        \"\"\"\n",
    "        Get next batch, which will have the `batch_size` next values. Can be smaller if there aren't enough values left\n",
    "        \"\"\"\n",
    "        file_reader = self.bedgraph.to_dataframe(iterator=True, skiprows=3, chunksize=self.chunk_size, usecols=['start', 'end', 'name'])\n",
    "        \n",
    "        windows = np.empty((len(positions), window_size))\n",
    "        starts, ends = get_start_end_window(positions)\n",
    "        \n",
    "        for i in range(len(positions)):\n",
    "            windows[i] = np.arange(starts[i], ends[i]+1)\n",
    "            \n",
    "        \n",
    "        number_values = windows.size\n",
    "        windows = pd.DataFrame(windows)\n",
    "        \n",
    "        progress = 0\n",
    "        self._print_progress(progress)\n",
    "        \n",
    "        number_values_left = number_values\n",
    "            \n",
    "        \n",
    "        while number_values_left > 0:\n",
    "            chunk = file_reader.get_chunk()\n",
    "            chunk_values = chunk.values\n",
    "            last_chunk = chunk_values.shape[0] < self.chunk_size\n",
    "            \n",
    "            windows = windows.applymap(lambda pos: self._fill_value(pos, chunk_values))\n",
    "            \n",
    "            if last_chunk:\n",
    "                windows[windows > 0] = pd.NA # Values not in bedgraph\n",
    "            \n",
    "            number_values_left = (windows > 0).sum().sum()\n",
    "            \n",
    "            new_progress = (1 - number_values_left / number_values) * 100.0\n",
    "            if new_progress > progress:\n",
    "                progress = new_progress\n",
    "                self._print_progress(progress)\n",
    "            \n",
    "                    \n",
    "        return -windows"
   ]
  },
  {
   "cell_type": "code",
   "execution_count": 6,
   "metadata": {},
   "outputs": [
    {
     "name": "stdout",
     "output_type": "stream",
     "text": [
      "Signal Coverage 0.0% complete\n",
      "Signal Coverage 62.5% complete\n",
      "Signal Coverage 75.0% complete\n",
      "Signal Coverage 87.5% complete\n",
      "Signal Coverage 100.0% complete\n"
     ]
    },
    {
     "data": {
      "text/plain": [
       "Timer unit: 1e-06 s\n",
       "\n",
       "Total time: 1.41166 s\n",
       "File: <ipython-input-5-d55b1362f419>\n",
       "Function: get_windows at line 79\n",
       "\n",
       "Line #      Hits         Time  Per Hit   % Time  Line Contents\n",
       "==============================================================\n",
       "    79                                               def get_windows(self, positions, prefix_str=\"\"):\n",
       "    80                                                   \"\"\"\n",
       "    81                                                   Get next batch, which will have the `batch_size` next values. Can be smaller if there aren't enough values left\n",
       "    82                                                   \"\"\"\n",
       "    83         1       6660.0   6660.0      0.5          file_reader = self.bedgraph.to_dataframe(iterator=True, skiprows=3, chunksize=self.chunk_size, usecols=['start', 'end', 'name'])\n",
       "    84                                                   \n",
       "    85         1         12.0     12.0      0.0          windows = np.empty((len(positions), window_size))\n",
       "    86         1         29.0     29.0      0.0          starts, ends = get_start_end_window(positions)\n",
       "    87                                                   \n",
       "    88         9         13.0      1.4      0.0          for i in range(len(positions)):\n",
       "    89         8         71.0      8.9      0.0              windows[i] = np.arange(starts[i], ends[i]+1)\n",
       "    90                                                       \n",
       "    91                                                   \n",
       "    92         1          3.0      3.0      0.0          number_values = windows.size\n",
       "    93         1        592.0    592.0      0.0          windows = pd.DataFrame(windows)\n",
       "    94                                                   \n",
       "    95         1          1.0      1.0      0.0          progress = 0\n",
       "    96         1        118.0    118.0      0.0          self._print_progress(progress)\n",
       "    97                                                   \n",
       "    98         1          1.0      1.0      0.0          number_values_left = number_values\n",
       "    99                                                       \n",
       "   100                                                   \n",
       "   101         6         10.0      1.7      0.0          while number_values_left > 0:\n",
       "   102         5    1145456.0 229091.2     81.1              chunk = file_reader.get_chunk()\n",
       "   103         5        555.0    111.0      0.0              chunk_values = chunk.values\n",
       "   104         5         21.0      4.2      0.0              last_chunk = chunk_values.shape[0] < self.chunk_size\n",
       "   105                                                       \n",
       "   106         5     249329.0  49865.8     17.7              windows = windows.applymap(lambda pos: self._fill_value(pos, chunk_values))\n",
       "   107                                                       \n",
       "   108         5          7.0      1.4      0.0              if last_chunk:\n",
       "   109                                                           windows[windows > 0] = pd.NA # Values not in bedgraph\n",
       "   110                                                       \n",
       "   111         5       8219.0   1643.8      0.6              number_values_left = (windows > 0).sum().sum()\n",
       "   112                                                       \n",
       "   113         5         19.0      3.8      0.0              new_progress = (1 - number_values_left / number_values) * 100.0\n",
       "   114         5          6.0      1.2      0.0              if new_progress > progress:\n",
       "   115         4          2.0      0.5      0.0                  progress = new_progress\n",
       "   116         4        315.0     78.8      0.0                  self._print_progress(progress)\n",
       "   117                                                       \n",
       "   118                                                               \n",
       "   119         1        218.0    218.0      0.0          return -windows"
      ]
     },
     "metadata": {},
     "output_type": "display_data"
    }
   ],
   "source": [
    "%lprun -f SingleSignalExtractor.get_windows SingleSignalExtractor('2_Coverage.bedgraph.gz').get_windows(np.array([100000, 1230123, 12312314, 1435456, 43765, 6575756, 45546, 4735734]))"
   ]
  },
  {
   "cell_type": "code",
   "execution_count": 7,
   "metadata": {},
   "outputs": [
    {
     "name": "stdout",
     "output_type": "stream",
     "text": [
      "Signal CigarIndels 0.0% complete\n",
      "Signal CigarIndels 100.0% complete\n"
     ]
    },
    {
     "data": {
      "text/plain": [
       "Timer unit: 1e-06 s\n",
       "\n",
       "Total time: 0.015649 s\n",
       "File: <ipython-input-5-d55b1362f419>\n",
       "Function: _fill_value at line 46\n",
       "\n",
       "Line #      Hits         Time  Per Hit   % Time  Line Contents\n",
       "==============================================================\n",
       "    46                                               def _fill_value(self, pos, chunk_values):        \n",
       "    47       816       1242.0      1.5      7.9          if pd.isna(pos) or pos <= 0:\n",
       "    48                                                       return pos\n",
       "    49                                                   \n",
       "    50       816        504.0      0.6      3.2          start_chunk = chunk_values[0, 0]\n",
       "    51       816        336.0      0.4      2.1          end_chunk = chunk_values[-1, 1]\n",
       "    52                                                   \n",
       "    53       816       2949.0      3.6     18.8          if pos < start_chunk or pos > end_chunk:\n",
       "    54                                                       # pos not in chunk\n",
       "    55                                                       return pos\n",
       "    56                                                   \n",
       "    57       816        532.0      0.7      3.4          value = self.dict[pos]\n",
       "    58                                                   \n",
       "    59       816        443.0      0.5      2.8          if value != None:\n",
       "    60       796        263.0      0.3      1.7              return value\n",
       "    61                                                   \n",
       "    62        20       2233.0    111.7     14.3          index = self._pos_in_df(chunk_values, pos)\n",
       "    63                                                   \n",
       "    64        20         35.0      1.8      0.2          if pd.isna(index):\n",
       "    65                                                       return pd.NA # Value not in bedgraph\n",
       "    66                                                   \n",
       "    67        20         16.0      0.8      0.1          row = chunk_values[index]\n",
       "    68                                                   \n",
       "    69        20         11.0      0.6      0.1          start = row[0]\n",
       "    70        20         10.0      0.5      0.1          end = row[1]\n",
       "    71        20         13.0      0.7      0.1          value = -row[2]\n",
       "    72                                           \n",
       "    73      8261       3205.0      0.4     20.5          for i in range(start, end+1):\n",
       "    74      8241       3847.0      0.5     24.6              self.dict[i] = value\n",
       "    75                                           \n",
       "    76        20         10.0      0.5      0.1          return value"
      ]
     },
     "metadata": {},
     "output_type": "display_data"
    }
   ],
   "source": [
    "%lprun -f SingleSignalExtractor._fill_value SingleSignalExtractor('2_CigarIndels.bedgraph.gz').get_windows(np.array([100000, 1230123, 12312314, 1435456, 43765, 6575756, 45546, 4735734]))"
   ]
  },
  {
   "cell_type": "code",
   "execution_count": 8,
   "metadata": {},
   "outputs": [
    {
     "name": "stdout",
     "output_type": "stream",
     "text": [
      "Signal MappingErrors 0.0% complete\n",
      "Signal MappingErrors 87.5% complete\n",
      "Signal MappingErrors 100.0% complete\n"
     ]
    },
    {
     "data": {
      "text/plain": [
       "Timer unit: 1e-06 s\n",
       "\n",
       "Total time: 0.009252 s\n",
       "File: <ipython-input-5-d55b1362f419>\n",
       "Function: _pos_in_df at line 17\n",
       "\n",
       "Line #      Hits         Time  Per Hit   % Time  Line Contents\n",
       "==============================================================\n",
       "    17                                               def _pos_in_df(self, values, pos):\n",
       "    18        60        118.0      2.0      1.3          if pd.isna(pos):\n",
       "    19                                                       return pd.NA\n",
       "    20                                                   \n",
       "    21        60         29.0      0.5      0.3          left = 0\n",
       "    22        60         80.0      1.3      0.9          right = values.shape[0] - 1        \n",
       "    23                                                   \n",
       "    24      1138        362.0      0.3      3.9          while left <= right:\n",
       "    25      1138        683.0      0.6      7.4              mid = int((right - left) / 2) + left            \n",
       "    26                                                       \n",
       "    27      1138        707.0      0.6      7.6              start = values[mid, 0]\n",
       "    28      1138        571.0      0.5      6.2              end = values[mid, 1]\n",
       "    29                                                       \n",
       "    30      1138       2839.0      2.5     30.7              if start <= pos and pos <= end:\n",
       "    31        60         17.0      0.3      0.2                  return mid\n",
       "    32      1078       1922.0      1.8     20.8              elif end <= pos:\n",
       "    33       454        168.0      0.4      1.8                  if left == mid:\n",
       "    34                                                               mid += 1\n",
       "    35       454        162.0      0.4      1.8                  left = mid\n",
       "    36       624       1116.0      1.8     12.1              elif start >= pos:\n",
       "    37       624        270.0      0.4      2.9                  if right == mid:\n",
       "    38                                                               mid -= 1\n",
       "    39       624        208.0      0.3      2.2                  right = mid\n",
       "    40                                                       else:\n",
       "    41                                                           raise ValueError\n",
       "    42                                                   \n",
       "    43                                                   return pd.NA"
      ]
     },
     "metadata": {},
     "output_type": "display_data"
    }
   ],
   "source": [
    "%lprun -f SingleSignalExtractor._pos_in_df SingleSignalExtractor('2_MappingErrors.bedgraph.gz').get_windows(np.array([100000, 1230123, 12312314, 1435456, 43765, 6575756, 45546, 4735734]))"
   ]
  },
  {
   "cell_type": "code",
   "execution_count": 9,
   "metadata": {},
   "outputs": [],
   "source": [
    "class MultiSignalExtractors(SignalExtractor):\n",
    "    \"\"\"\n",
    "    Helper class to easily combine multiple signal extractors\n",
    "    Uses constant global array SIGNALS as signals\n",
    "    \"\"\"\n",
    "    def _compute_windows(args):\n",
    "        i = args[0]\n",
    "        positions = args[1]\n",
    "        signal = SIGNALS[i]\n",
    "        \n",
    "        windows = signal.get_windows(positions)\n",
    "        windows = windows.fillna(-1) # Fill missing values with '-1'\n",
    "        \n",
    "        return windows.values\n",
    "        \n",
    "        \n",
    "    def get_windows(self, positions):\n",
    "        \"\"\"\n",
    "        Get next batch for each signal and return them\n",
    "        \"\"\"\n",
    "        n_signals = len(SIGNALS)\n",
    "        pool = multiprocessing.Pool(n_signals)\n",
    "        windows = np.array(pool.map(MultiSignalExtractors._compute_windows, [(i, positions) for i in range(n_signals)]))\n",
    "        pool.close()\n",
    "        pool.join()\n",
    "        \n",
    "        return windows.reshape(len(positions), len(SIGNALS), window_size)"
   ]
  },
  {
   "cell_type": "code",
   "execution_count": 10,
   "metadata": {},
   "outputs": [],
   "source": [
    "class VCFSignal():\n",
    "    def __init__(self, vcf, length_chrom, data_dir='data/', id_filter='.*', seed=random_state):\n",
    "        self.seed = seed\n",
    "        self.length_chrom = length_chrom\n",
    "        \n",
    "        self.data = pd.read_table(f'{data_dir}{vcf}',\n",
    "                                  skiprows=1,\n",
    "                                  na_values='.')\n",
    "        \n",
    "        self.data.columns = map(str.lower, self.data.columns)\n",
    "    \n",
    "        self.data = self.data[self.data['info'].str.contains('(?:^|;)SVTYPE=DEL(?:$|;)')] # Only keep deletions\n",
    "        self.data = self.data[self.data['filter'] == 'PASS'] # Only take variants that pass filter\n",
    "        self.data = self.data[self.data['id'].fillna('').str.match(id_filter)] # Only take ids that pass filter\n",
    "        self.data['end'] = self.data['info'].str.extract(r'(?:^|.*;)END=(\\d+)(?:$|;.*)', expand=False).astype(int)\n",
    "        self.data = self.data.rename(columns={'pos': 'start'})\n",
    "        self.data = self.data[['start', 'end']]\n",
    "        self.data = self.data.reset_index(drop=True)\n",
    "        \n",
    "    \n",
    "    def get_window_positions(self, scale_not_breakpoint=1):\n",
    "        \"\"\"\n",
    "        Get batch positions for deletions and not deletions\n",
    "        \n",
    "        :scale_not_breakpoint:: Ratio between not deletions and deletions\n",
    "        \"\"\"\n",
    "        np.random.seed(self.seed)\n",
    "        \n",
    "        delete_positions = self.data.values.reshape(-1)\n",
    "        np.random.shuffle(delete_positions)\n",
    "        \n",
    "        not_delete_positions = []\n",
    "        \n",
    "        number_deletes = delete_positions.shape[0]\n",
    "        number_not_deletes = int(scale_not_breakpoint * number_deletes)\n",
    "        \n",
    "        while len(not_delete_positions) < number_not_deletes:\n",
    "            pos = np.random.randint((window_size-1)/2, self.length_chrom - (window_size-1)/2)\n",
    "            \n",
    "            start, end = get_start_end_window(pos)\n",
    "            \n",
    "            overlaps_with_delete = (((start <= self.data['start']) & (self.data['start'] <= end)) | # Start in window\n",
    "                                    ((self.data['start'] <= start) & (end <= self.data['end'])) | # Contains window\n",
    "                                    ((start <= self.data['start']) & (self.data['end'] <= end)) | # Inside window\n",
    "                                    ((start <= self.data['end']) & (self.data['end'] <= end)) # End in window\n",
    "                                   ).sum() > 0\n",
    "            \n",
    "            if not overlaps_with_delete:\n",
    "                not_delete_positions.append(pos)\n",
    "                \n",
    "        \n",
    "        return np.array(not_delete_positions), delete_positions"
   ]
  },
  {
   "cell_type": "code",
   "execution_count": 11,
   "metadata": {},
   "outputs": [],
   "source": [
    "def init_signals(prefix):\n",
    "    signals = [\n",
    "        f'{prefix}_CigarIndels.bedgraph.gz',\n",
    "        f'{prefix}_Clipped.bedgraph.gz',\n",
    "        f'{prefix}_Coverage.bedgraph.gz',\n",
    "        f'{prefix}_DiscordantTandemOrientation.bedgraph.gz',\n",
    "        f'{prefix}_ForwardInsertSizeTooBig.bedgraph.gz',\n",
    "        f'{prefix}_InsertSizeTooBig.bedgraph.gz',\n",
    "        f'{prefix}_InsertSizeTooSmall.bedgraph.gz',\n",
    "        f'{prefix}_InterChr.bedgraph.gz',\n",
    "        f'{prefix}_MappingErrors.bedgraph.gz',\n",
    "        f'{prefix}_MAPQ0.bedgraph.gz',\n",
    "        f'{prefix}_MateUnmapped.bedgraph.gz'\n",
    "    ]\n",
    "    signals_ = []\n",
    "    \n",
    "    for signal in signals:\n",
    "        if isinstance(signal, SignalExtractor):\n",
    "            signals_.append(signal)\n",
    "        elif isinstance(signal, str):\n",
    "            signals_.append(SingleSignalExtractor(signal))\n",
    "        else:\n",
    "            raise ValueError\n",
    "            \n",
    "    return signals_"
   ]
  },
  {
   "cell_type": "code",
   "execution_count": 12,
   "metadata": {},
   "outputs": [],
   "source": [
    "def get_length_chrom(vcf, data_dir='data/'):\n",
    "    return pd.read_table(f'{data_dir}{vcf}', nrows=1, header=None)[0]\\\n",
    "             .str.extract(r'^.*(?:<|,)length=(\\d+)(?:>|,).*$', expand=False).astype(int).values[0]"
   ]
  },
  {
   "cell_type": "code",
   "execution_count": 13,
   "metadata": {},
   "outputs": [],
   "source": [
    "def generate_train_test_data(vcf, prefix_bedgraph, id_filter='.*'):\n",
    "    length_chrom = get_length_chrom(vcf)\n",
    "    vcfSignal = VCFSignal(vcf, length_chrom, id_filter=id_filter)\n",
    "    not_delete_positions, delete_positions = vcfSignal.get_window_positions()\n",
    "    all_positions = np.concatenate((delete_positions, not_delete_positions))\n",
    "    \n",
    "    global SIGNALS # Global variable, kinda dirty but Pool need hashable objects so hacky workaround\n",
    "    SIGNALS = init_signals(prefix_bedgraph)\n",
    "    signal_extractor = MultiSignalExtractors()\n",
    "    data = signal_extractor.get_windows(all_positions)\n",
    "    \n",
    "    X = data.reshape(all_positions.shape[0], -1)\n",
    "    y = np.zeros(all_positions.shape[0])\n",
    "    y[np.arange(delete_positions.shape[0])] = 1 # First positions are delete_positions\n",
    "    \n",
    "    X_train, X_test, y_train, y_test = train_test_split(X, y, test_size=0.33, random_state=42)\n",
    "    return X_train, X_test, y_train, y_test"
   ]
  },
  {
   "cell_type": "code",
   "execution_count": 14,
   "metadata": {},
   "outputs": [
    {
     "name": "stdout",
     "output_type": "stream",
     "text": [
      "Signal CigarIndels 0.0% complete\n",
      "Signal InterChr 0.0% complete\n",
      "Signal ForwardInsertSizeTooBig 0.0% complete\n",
      "Signal Coverage 0.0% complete\n",
      "Signal InsertSizeTooSmall 0.0% complete\n",
      "Signal DiscordantTandemOrientation 0.0% complete\n",
      "Signal Clipped 0.0% complete\n",
      "Signal MAPQ0 0.0% complete\n",
      "Signal MappingErrors 0.0% complete\n",
      "Signal InsertSizeTooBig 0.0% complete\n",
      "Signal MateUnmapped 0.0% complete\n",
      "Signal Coverage 2.6% complete\n",
      "Signal MappingErrors 6.1% complete\n",
      "Signal CigarIndels 33.8% complete\n",
      "Signal Clipped 38.7% complete\n",
      "Signal Coverage 4.4% complete\n",
      "Signal MappingErrors 11.3% complete\n",
      "Signal MAPQ0 45.7% complete\n",
      "Signal InterChr 100.0% complete\n",
      "Signal InsertSizeTooBig 100.0% complete\n",
      "Signal MateUnmapped 100.0% complete\n",
      "Signal InsertSizeTooSmall 100.0% complete\n",
      "Signal CigarIndels 69.2% complete\n",
      "Signal MappingErrors 13.9% complete\n",
      "Signal ForwardInsertSizeTooBig 100.0% complete\n",
      "Signal Clipped 82.2% complete\n",
      "Signal Coverage 5.5% complete\n",
      "Signal Clipped 100.0% complete\n",
      "Signal CigarIndels 100.0% complete\n",
      "Signal MappingErrors 18.6% complete\n",
      "Signal Coverage 7.9% complete\n",
      "Signal MAPQ0 100.0% complete\n",
      "Signal DiscordantTandemOrientation 100.0% complete\n",
      "Signal MappingErrors 21.8% complete\n",
      "Signal Coverage 8.6% complete\n",
      "Signal MappingErrors 25.3% complete\n",
      "Signal Coverage 10.2% complete\n",
      "Signal MappingErrors 28.3% complete\n",
      "Signal Coverage 11.1% complete\n",
      "Signal MappingErrors 33.1% complete\n",
      "Signal Coverage 11.8% complete\n",
      "Signal MappingErrors 39.3% complete\n",
      "Signal Coverage 12.5% complete\n",
      "Signal MappingErrors 44.3% complete\n",
      "Signal Coverage 13.0% complete\n",
      "Signal MappingErrors 49.0% complete\n",
      "Signal Coverage 14.1% complete\n",
      "Signal MappingErrors 53.7% complete\n",
      "Signal Coverage 15.1% complete\n",
      "Signal MappingErrors 58.5% complete\n",
      "Signal Coverage 17.0% complete\n",
      "Signal MappingErrors 62.7% complete\n",
      "Signal Coverage 18.2% complete\n",
      "Signal MappingErrors 67.4% complete\n",
      "Signal Coverage 19.2% complete\n",
      "Signal MappingErrors 71.6% complete\n",
      "Signal MappingErrors 74.4% complete\n",
      "Signal Coverage 20.4% complete\n",
      "Signal MappingErrors 78.8% complete\n",
      "Signal Coverage 20.8% complete\n",
      "Signal MappingErrors 81.8% complete\n",
      "Signal Coverage 21.8% complete\n",
      "Signal MappingErrors 86.4% complete\n",
      "Signal Coverage 22.7% complete\n",
      "Signal MappingErrors 91.0% complete\n",
      "Signal MappingErrors 94.1% complete\n",
      "Signal Coverage 23.3% complete\n",
      "Signal MappingErrors 100.0% complete\n",
      "Signal Coverage 24.3% complete\n",
      "Signal Coverage 25.2% complete\n",
      "Signal Coverage 25.9% complete\n",
      "Signal Coverage 27.0% complete\n",
      "Signal Coverage 27.5% complete\n",
      "Signal Coverage 28.3% complete\n",
      "Signal Coverage 29.0% complete\n",
      "Signal Coverage 30.6% complete\n",
      "Signal Coverage 32.0% complete\n",
      "Signal Coverage 33.1% complete\n",
      "Signal Coverage 33.9% complete\n",
      "Signal Coverage 35.5% complete\n",
      "Signal Coverage 38.5% complete\n",
      "Signal Coverage 40.0% complete\n",
      "Signal Coverage 40.9% complete\n",
      "Signal Coverage 42.6% complete\n",
      "Signal Coverage 43.9% complete\n",
      "Signal Coverage 45.6% complete\n",
      "Signal Coverage 46.6% complete\n",
      "Signal Coverage 47.7% complete\n",
      "Signal Coverage 48.8% complete\n",
      "Signal Coverage 49.7% complete\n",
      "Signal Coverage 51.0% complete\n",
      "Signal Coverage 52.4% complete\n",
      "Signal Coverage 53.9% complete\n",
      "Signal Coverage 55.6% complete\n",
      "Signal Coverage 56.8% complete\n",
      "Signal Coverage 58.0% complete\n",
      "Signal Coverage 58.9% complete\n",
      "Signal Coverage 59.9% complete\n",
      "Signal Coverage 61.0% complete\n",
      "Signal Coverage 61.7% complete\n",
      "Signal Coverage 63.3% complete\n",
      "Signal Coverage 64.2% complete\n",
      "Signal Coverage 65.8% complete\n",
      "Signal Coverage 67.1% complete\n",
      "Signal Coverage 68.0% complete\n",
      "Signal Coverage 68.6% complete\n",
      "Signal Coverage 69.6% complete\n",
      "Signal Coverage 71.3% complete\n",
      "Signal Coverage 72.3% complete\n",
      "Signal Coverage 72.7% complete\n",
      "Signal Coverage 73.9% complete\n",
      "Signal Coverage 74.4% complete\n",
      "Signal Coverage 75.8% complete\n",
      "Signal Coverage 76.8% complete\n",
      "Signal Coverage 78.1% complete\n",
      "Signal Coverage 78.8% complete\n",
      "Signal Coverage 79.5% complete\n",
      "Signal Coverage 80.7% complete\n",
      "Signal Coverage 81.1% complete\n",
      "Signal Coverage 81.8% complete\n",
      "Signal Coverage 82.4% complete\n",
      "Signal Coverage 83.5% complete\n",
      "Signal Coverage 85.5% complete\n",
      "Signal Coverage 86.5% complete\n",
      "Signal Coverage 88.2% complete\n",
      "Signal Coverage 89.5% complete\n",
      "Signal Coverage 90.3% complete\n",
      "Signal Coverage 91.7% complete\n",
      "Signal Coverage 92.3% complete\n",
      "Signal Coverage 93.0% complete\n",
      "Signal Coverage 93.9% complete\n",
      "Signal Coverage 95.2% complete\n",
      "Signal Coverage 96.2% complete\n",
      "Signal Coverage 98.1% complete\n",
      "Signal Coverage 100.0% complete\n"
     ]
    }
   ],
   "source": [
    "X_train_HG001, X_test_HG001, y_train_HG001, y_test_HG001 = generate_train_test_data('NA12878.sorted.chr2.vcf', '2')"
   ]
  },
  {
   "cell_type": "code",
   "execution_count": 25,
   "metadata": {},
   "outputs": [
    {
     "name": "stdout",
     "output_type": "stream",
     "text": [
      "Signal Clipped 0.0% complete\n",
      "Signal Coverage 0.0% complete\n",
      "Signal CigarIndels 0.0% complete\n",
      "Signal MappingErrors 0.0% complete\n",
      "Signal DiscordantTandemOrientation 0.0% complete\n",
      "Signal InterChr 0.0% complete\n",
      "Signal InsertSizeTooSmall 0.0% complete\n",
      "Signal ForwardInsertSizeTooBig 0.0% complete\n",
      "Signal MateUnmapped 0.0% complete\n",
      "Signal MAPQ0 0.0% complete\n",
      "Signal InsertSizeTooBig 0.0% complete\n",
      "Signal Coverage 1.4% complete\n",
      "Signal MappingErrors 3.1% complete\n",
      "Signal Clipped 13.0% complete\n",
      "Signal CigarIndels 23.6% complete\n",
      "Signal MateUnmapped 42.5% complete\n",
      "Signal InsertSizeTooSmall 69.7% complete\n",
      "Signal InterChr 100.0% complete\n",
      "Signal InsertSizeTooBig 100.0% complete\n",
      "Signal InsertSizeTooSmall 100.0% complete\n",
      "Signal ForwardInsertSizeTooBig 100.0% complete\n",
      "Signal MappingErrors 5.6% complete\n",
      "Signal Coverage 3.3% complete\n",
      "Signal MateUnmapped 76.0% complete\n",
      "Signal CigarIndels 46.8% complete\n",
      "Signal Clipped 29.3% complete\n",
      "Signal MateUnmapped 100.0% complete\n",
      "Signal CigarIndels 71.2% complete\n",
      "Signal MappingErrors 8.7% complete\n",
      "Signal Coverage 4.8% complete\n",
      "Signal Clipped 42.7% complete\n",
      "Signal CigarIndels 100.0% complete\n",
      "Signal Coverage 6.3% complete\n",
      "Signal MappingErrors 11.1% complete\n",
      "Signal Coverage 7.7% complete\n",
      "Signal Clipped 54.0% complete\n",
      "Signal MappingErrors 14.1% complete\n",
      "Signal Coverage 9.6% complete\n",
      "Signal MappingErrors 17.7% complete\n",
      "Signal Clipped 66.9% complete\n",
      "Signal Coverage 10.9% complete\n",
      "Signal MappingErrors 20.5% complete\n",
      "Signal Coverage 11.9% complete\n",
      "Signal Clipped 78.7% complete\n",
      "Signal MappingErrors 23.5% complete\n",
      "Signal Coverage 13.4% complete\n",
      "Signal DiscordantTandemOrientation 100.0% complete\n",
      "Signal Clipped 97.6% complete\n",
      "Signal MappingErrors 26.8% complete\n",
      "Signal Clipped 100.0% complete\n",
      "Signal Coverage 15.1% complete\n",
      "Signal MappingErrors 30.3% complete\n",
      "Signal Coverage 17.1% complete\n",
      "Signal MappingErrors 33.5% complete\n",
      "Signal Coverage 18.7% complete\n",
      "Signal MappingErrors 37.2% complete\n",
      "Signal Coverage 20.3% complete\n",
      "Signal MappingErrors 40.1% complete\n",
      "Signal Coverage 21.4% complete\n",
      "Signal MappingErrors 42.5% complete\n",
      "Signal Coverage 23.1% complete\n",
      "Signal MappingErrors 45.7% complete\n",
      "Signal Coverage 24.9% complete\n",
      "Signal MappingErrors 48.6% complete\n",
      "Signal Coverage 26.5% complete\n",
      "Signal MappingErrors 51.6% complete\n",
      "Signal Coverage 28.4% complete\n",
      "Signal MappingErrors 54.9% complete\n",
      "Signal Coverage 30.3% complete\n",
      "Signal MappingErrors 58.5% complete\n",
      "Signal MappingErrors 60.9% complete\n",
      "Signal Coverage 32.0% complete\n",
      "Signal MappingErrors 63.9% complete\n",
      "Signal MAPQ0 100.0% complete\n",
      "Signal Coverage 33.4% complete\n",
      "Signal MappingErrors 66.7% complete\n",
      "Signal Coverage 35.7% complete\n",
      "Signal MappingErrors 68.6% complete\n",
      "Signal Coverage 37.2% complete\n",
      "Signal MappingErrors 71.6% complete\n",
      "Signal MappingErrors 74.5% complete\n",
      "Signal Coverage 38.7% complete\n",
      "Signal MappingErrors 78.0% complete\n",
      "Signal Coverage 40.1% complete\n",
      "Signal MappingErrors 81.3% complete\n",
      "Signal Coverage 42.3% complete\n",
      "Signal MappingErrors 84.1% complete\n",
      "Signal MappingErrors 86.7% complete\n",
      "Signal Coverage 44.2% complete\n",
      "Signal MappingErrors 91.1% complete\n",
      "Signal Coverage 46.5% complete\n",
      "Signal MappingErrors 98.1% complete\n",
      "Signal Coverage 47.7% complete\n",
      "Signal MappingErrors 100.0% complete\n",
      "Signal Coverage 49.4% complete\n",
      "Signal Coverage 51.1% complete\n",
      "Signal Coverage 52.5% complete\n",
      "Signal Coverage 54.5% complete\n",
      "Signal Coverage 56.3% complete\n",
      "Signal Coverage 58.1% complete\n",
      "Signal Coverage 59.5% complete\n",
      "Signal Coverage 60.7% complete\n",
      "Signal Coverage 61.9% complete\n",
      "Signal Coverage 63.4% complete\n",
      "Signal Coverage 64.5% complete\n",
      "Signal Coverage 66.3% complete\n",
      "Signal Coverage 67.6% complete\n",
      "Signal Coverage 68.6% complete\n",
      "Signal Coverage 70.3% complete\n",
      "Signal Coverage 71.9% complete\n",
      "Signal Coverage 73.4% complete\n",
      "Signal Coverage 74.8% complete\n",
      "Signal Coverage 77.0% complete\n",
      "Signal Coverage 78.6% complete\n",
      "Signal Coverage 79.7% complete\n",
      "Signal Coverage 82.3% complete\n",
      "Signal Coverage 83.6% complete\n",
      "Signal Coverage 85.1% complete\n",
      "Signal Coverage 86.3% complete\n",
      "Signal Coverage 88.0% complete\n",
      "Signal Coverage 90.1% complete\n",
      "Signal Coverage 93.0% complete\n",
      "Signal Coverage 97.9% complete\n",
      "Signal Coverage 100.0% complete\n"
     ]
    }
   ],
   "source": [
    "X_train_HG002, X_test_HG002, y_train_HG002, y_test_HG002 = generate_train_test_data('svanalyzer_union_171212_v0.5.0_annotated.vcf', 'chr20', id_filter='.*')"
   ]
  },
  {
   "cell_type": "markdown",
   "metadata": {},
   "source": [
    "As we can see, the computation time makes sense, `Coverage` is the most complicated signal, followed by `MappingErrors`"
   ]
  },
  {
   "cell_type": "code",
   "execution_count": 26,
   "metadata": {},
   "outputs": [
    {
     "name": "stdout",
     "output_type": "stream",
     "text": [
      "Percentage missing values\n",
      "HG001: 3.043%\n",
      "HG002: 14.030%\n"
     ]
    }
   ],
   "source": [
    "# Percentage of missing values\n",
    "print(\"Percentage missing values\")\n",
    "print(f\"HG001: {(X_train_HG001 == -1).sum() / X_train_HG001.size * 100:.3f}%\")\n",
    "print(f\"HG002: {(X_train_HG002 == -1).sum() / X_train_HG002.size * 100:.3f}%\")"
   ]
  },
  {
   "cell_type": "markdown",
   "metadata": {},
   "source": [
    "## 6. Machine learning"
   ]
  },
  {
   "cell_type": "markdown",
   "metadata": {},
   "source": [
    "## First idea\n",
    "- Multiple Conv1d on each signal separately (maybe could use Conv2d for faster execution time, if implemented carefully, kernel of dim 1-x to treat signals differently)\n",
    "- Then combine all signals and make a decision (2 dimensions, 1 hot encoded) with a few linear layers\n",
    "- Since I don't have the whole data at one time, I can't really standardize homogeneously, which may be a proble\n",
    "- To stabilize and fasten training I could make use of batch normalization\n",
    "- I may also look at dropout, in order to have a model that generalizes better\n",
    "\n",
    "How should the output be?\n",
    "1. Give it a window of size 51 for example and it says if the middle value 26 is a deletion or not?\n",
    "2. Give a window of size x returns x binary outputs\n",
    "\n",
    "First may be simpler to train\n",
    "\n",
    "We might have an issue because of the hugely unbalanced classes, deep nets usually avoid this issue but it may be a problem here. Maybe have a special loss where missclassifying a deletion is a huge error compared to missclassifying a not-deletion."
   ]
  },
  {
   "cell_type": "markdown",
   "metadata": {},
   "source": [
    "## Second idea\n",
    "\n",
    "Train random forest on processed data\n",
    "\n",
    "Find best hyperparameters using cross-validation on f1-score then show results for test set\n",
    "\n",
    "Hyperparameters:\n",
    "- `max_depth` is clearly better for `None` so no need to search one\n",
    "- `criterion` gini or entropy\n",
    "- `max_features` sqrt(2) or log2, the number of features to consider when looking for the best split\n",
    "- `min_impurity_decrease`\n",
    "- `min_samples_split` the minimum number of samples required to split an internal node\n",
    "- `min_samples_leaf` the minimum number of samples required to be at a leaf node\n",
    "- `n_estimators` the number of trees in the forest\n",
    "- Since the classes are balanced, no need to tune `class_weight`"
   ]
  },
  {
   "cell_type": "code",
   "execution_count": 21,
   "metadata": {},
   "outputs": [],
   "source": [
    "from sklearn.ensemble import RandomForestClassifier\n",
    "from sklearn.metrics import accuracy_score, precision_score, recall_score, f1_score, confusion_matrix, make_scorer\n",
    "from sklearn.model_selection import cross_val_score, cross_validate, cross_val_predict\n",
    "\n",
    "from source.confusion_matrix_pretty_print import pretty_plot_confusion_matrix"
   ]
  },
  {
   "cell_type": "code",
   "execution_count": 18,
   "metadata": {},
   "outputs": [],
   "source": [
    "def show_metrics(target, pred):\n",
    "    conf_mat = confusion_matrix(target, pred, labels=[1, 0])\n",
    "    conf_mat = pd.DataFrame(conf_mat, columns = ['Deleted', 'Not deleted'], index = ['Deleted', 'Not deleted'])\n",
    "\n",
    "    acc = accuracy_score(target, pred)\n",
    "    precision = precision_score(target, pred)\n",
    "    recall = recall_score(target, pred)\n",
    "    f1 = f1_score(target, pred)\n",
    "    \n",
    "    print(f\"Accuracy: {acc*100:.2f}%\")\n",
    "    print(f\"Precision: {precision*100:.2f}%\")\n",
    "    print(f\"Recall: {recall*100:.2f}%\")\n",
    "    print(f\"F1: {f1*100:.2f}%\")\n",
    "    \n",
    "    pretty_plot_confusion_matrix(conf_mat)"
   ]
  },
  {
   "cell_type": "markdown",
   "metadata": {},
   "source": [
    "### Hyperparameter grid search"
   ]
  },
  {
   "cell_type": "code",
   "execution_count": 19,
   "metadata": {},
   "outputs": [],
   "source": [
    "def hyperparameter_grid_score(criterions, max_features_, min_impurity_decreases, min_samples_splits, min_samples_leaves, n_estimators_, n_jobs=n_jobs, scorer=make_scorer(f1_score), random_state=random_state):\n",
    "    scores = []\n",
    "    params = []\n",
    "    \n",
    "    number_steps = len(criterions) * len(max_features_) * len(min_impurity_decreases) * len(min_samples_splits) * len(min_samples_leaves) * len(n_estimators_)\n",
    "    step = 0\n",
    "    progress = -1\n",
    "    \n",
    "    for criterion in criterions:\n",
    "        for max_features in max_features_:\n",
    "            for min_impurity_decrease in min_impurity_decreases:\n",
    "                for min_samples_split in min_samples_splits:\n",
    "                    for min_samples_leaf in min_samples_leaves:\n",
    "                        for n_estimators in n_estimators_:\n",
    "                            clf = RandomForestClassifier(criterion=criterion,\\\n",
    "                                                         max_features=max_features,\\\n",
    "                                                         min_impurity_decrease=min_impurity_decrease,\\\n",
    "                                                         min_samples_split=min_samples_split,\\\n",
    "                                                         min_samples_leaf=min_samples_leaf,\\\n",
    "                                                         n_estimators=n_estimators,\\\n",
    "                                                         n_jobs=n_jobs,\\\n",
    "                                                         random_state=random_state)\n",
    "\n",
    "                            cv_score = np.mean(cross_val_score(clf, X_train, y_train, scoring=scorer, n_jobs=n_jobs))\n",
    "\n",
    "                            params.append((criterion, max_features, min_impurity_decrease, min_samples_split, min_samples_leaf, n_estimators))\n",
    "                            scores.append(cv_score)\n",
    "\n",
    "                            step += 1\n",
    "                            new_progress = int(step/number_steps*100)\n",
    "                            if new_progress > progress:\n",
    "                                progress = new_progress\n",
    "                                print(f\"\\rProgress: {progress}%\", end='')\n",
    "                            \n",
    "    best_score = np.argmax(scores)\n",
    "    best_params = params[best_score]\n",
    "    \n",
    "    best_criterion = best_params[0]\n",
    "    best_max_features = best_params[1]\n",
    "    best_min_impurity_decrease = best_params[2]\n",
    "    best_min_samples_split = best_params[3]\n",
    "    best_min_samples_leaf = best_params[4]\n",
    "    best_n_estimators = best_params[5]\n",
    "    \n",
    "    print(f\"\\n\\nBest criterion: {best_criterion}\")\n",
    "    print(f\"Best max_features: {best_max_features}\")\n",
    "    print(f\"Best min_impurity_decrease: {best_min_impurity_decrease}\")\n",
    "    print(f\"Best min_samples_split: {best_min_samples_split}\")\n",
    "    print(f\"Best min_samples_leaf: {best_min_samples_leaf}\")\n",
    "    print(f\"Best n_estimators: {best_n_estimators}\")\n",
    "    \n",
    "    return best_criterion, best_max_features, best_min_impurity_decrease, best_min_samples_split, best_min_samples_leaf, best_n_estimators"
   ]
  },
  {
   "cell_type": "markdown",
   "metadata": {},
   "source": [
    "##### Search best hyperparameters"
   ]
  },
  {
   "cell_type": "code",
   "execution_count": 21,
   "metadata": {},
   "outputs": [
    {
     "name": "stdout",
     "output_type": "stream",
     "text": [
      "Progress: 100%\n",
      "\n",
      "Best criterion: entropy\n",
      "Best max_features: log2\n",
      "Best min_impurity_decrease: 0.00019999999999999998\n",
      "Best min_samples_split: 15\n",
      "Best min_samples_leaf: 1\n",
      "Best n_estimators: 775\n",
      "CPU times: user 6.05 s, sys: 3.14 s, total: 9.19 s\n",
      "Wall time: 46min\n"
     ]
    }
   ],
   "source": [
    "%%time\n",
    "\n",
    "criterions = ['gini', 'entropy']\n",
    "max_features = ['sqrt', 'log2']\n",
    "min_impurity_decreases = np.linspace(0, 0.0003, 4)\n",
    "min_samples_splits = np.linspace(2, 20, 5, dtype=int)\n",
    "min_samples_leaves = np.linspace(1, 2, 2, dtype=int)\n",
    "n_estimators = np.linspace(100, 1000, 5, dtype=int)\n",
    "\n",
    "best_criterion, best_max_features, best_min_impurity_decrease, best_min_samples_split, best_min_samples_leaf, best_n_estimators = hyperparameter_grid_score(\n",
    "                                                                                                                                    criterions,\\\n",
    "                                                                                                                                    max_features,\\\n",
    "                                                                                                                                    min_impurity_decreases,\\\n",
    "                                                                                                                                    min_samples_splits,\\\n",
    "                                                                                                                                    min_samples_leaves,\\\n",
    "                                                                                                                                    n_estimators)"
   ]
  },
  {
   "cell_type": "markdown",
   "metadata": {},
   "source": [
    "##### Search best hyperparameters around previously found hyperparameters"
   ]
  },
  {
   "cell_type": "code",
   "execution_count": 24,
   "metadata": {},
   "outputs": [
    {
     "name": "stdout",
     "output_type": "stream",
     "text": [
      "Progress: 100%\n",
      "\n",
      "Best criterion: entropy\n",
      "Best max_features: log2\n",
      "Best min_impurity_decrease: 0.00019999999999999998\n",
      "Best min_samples_split: 15\n",
      "Best min_samples_leaf: 1\n",
      "Best n_estimators: 795\n",
      "CPU times: user 1.65 s, sys: 811 ms, total: 2.46 s\n",
      "Wall time: 12min 57s\n"
     ]
    }
   ],
   "source": [
    "%%time\n",
    "\n",
    "min_samples_splits = np.linspace(best_min_samples_split-2, best_min_samples_split+2, 5, dtype=int)\n",
    "min_samples_leaves = np.linspace(1, 2, 2, dtype=int)\n",
    "n_estimators = np.linspace(best_n_estimators-100, best_n_estimators+100, 21, dtype=int)\n",
    "\n",
    "best_criterion_final, best_max_features_final, best_min_impurity_decrease_final, best_min_samples_split_final, best_min_samples_leaf_final, best_n_estimators_final = hyperparameter_grid_score(\n",
    "                                                                                                                                                                        [best_criterion],\\\n",
    "                                                                                                                                                                        [best_max_features],\\\n",
    "                                                                                                                                                                        [best_min_impurity_decrease],\\\n",
    "                                                                                                                                                                        min_samples_splits,\\\n",
    "                                                                                                                                                                        min_samples_leaves,\\\n",
    "                                                                                                                                                                        n_estimators)"
   ]
  },
  {
   "cell_type": "markdown",
   "metadata": {},
   "source": [
    "##### Show metrics"
   ]
  },
  {
   "cell_type": "code",
   "execution_count": 25,
   "metadata": {},
   "outputs": [
    {
     "name": "stdout",
     "output_type": "stream",
     "text": [
      "Training metrics:\n",
      "Accuracy: 89.59%\n",
      "Precision: 86.95%\n",
      "Recall: 93.02%\n",
      "F1: 89.88%\n"
     ]
    },
    {
     "data": {
      "image/png": "[encoded data removed]",
      "text/plain": [
       "<Figure size 576x576 with 1 Axes>"
      ]
     },
     "metadata": {
      "needs_background": "light"
     },
     "output_type": "display_data"
    },
    {
     "name": "stdout",
     "output_type": "stream",
     "text": [
      "\n",
      "\n",
      "Test metrics:\n",
      "Accuracy: 67.77%\n",
      "Precision: 66.42%\n",
      "Recall: 73.47%\n",
      "F1: 69.77%\n"
     ]
    },
    {
     "data": {
      "image/png": "[encoded data removed]",
      "text/plain": [
       "<Figure size 576x576 with 1 Axes>"
      ]
     },
     "metadata": {
      "needs_background": "light"
     },
     "output_type": "display_data"
    }
   ],
   "source": [
    "clf = RandomForestClassifier(criterion=best_criterion_final,\\\n",
    "                             max_features=best_max_features_final,\\\n",
    "                             min_impurity_decrease=best_min_impurity_decrease_final,\\\n",
    "                             min_samples_split=best_min_samples_split_final,\\\n",
    "                             min_samples_leaf=best_min_samples_leaf_final,\\\n",
    "                             n_estimators=best_n_estimators_final,\\\n",
    "                             n_jobs=n_jobs,\\\n",
    "                             random_state=random_state)\n",
    "\n",
    "clf.fit(X_train, y_train)\n",
    "\n",
    "print(\"Training metrics:\")\n",
    "pred_train = clf.predict(X_train)\n",
    "show_metrics(y_train, pred_train)\n",
    "\n",
    "print(\"\\n\\nTest metrics:\")\n",
    "pred_test = clf.predict(X_test)\n",
    "show_metrics(y_test, pred_test)"
   ]
  },
  {
   "cell_type": "markdown",
   "metadata": {},
   "source": [
    "The results seem good compared to simple filters, comparing to metrics from different softwares reported in Rick's report."
   ]
  },
  {
   "cell_type": "markdown",
   "metadata": {},
   "source": [
    "##### Retrieve hyperparameters (to not re-run above cells)"
   ]
  },
  {
   "cell_type": "code",
   "execution_count": 26,
   "metadata": {},
   "outputs": [
    {
     "data": {
      "text/plain": [
       "RandomForestClassifier(bootstrap=True, ccp_alpha=0.0, class_weight=None,\n",
       "                       criterion='entropy', max_depth=None, max_features='log2',\n",
       "                       max_leaf_nodes=None, max_samples=None,\n",
       "                       min_impurity_decrease=0.0002, min_impurity_split=None,\n",
       "                       min_samples_leaf=1, min_samples_split=15,\n",
       "                       min_weight_fraction_leaf=0.0, n_estimators=795, n_jobs=8,\n",
       "                       oob_score=False, random_state=42, verbose=0,\n",
       "                       warm_start=False)"
      ]
     },
     "execution_count": 26,
     "metadata": {},
     "output_type": "execute_result"
    }
   ],
   "source": [
    "clf = RandomForestClassifier(criterion='entropy',\\\n",
    "                             max_features='log2',\\\n",
    "                             min_impurity_decrease=2e-4,\\\n",
    "                             min_samples_split=15,\\\n",
    "                             min_samples_leaf=1,\\\n",
    "                             n_estimators=795,\\\n",
    "                             random_state=random_state,\\\n",
    "                             n_jobs=n_jobs\n",
    "                            )\n",
    "\n",
    "clf.fit(X_train, y_train)"
   ]
  },
  {
   "cell_type": "code",
   "execution_count": 29,
   "metadata": {},
   "outputs": [
    {
     "name": "stdout",
     "output_type": "stream",
     "text": [
      "Training metrics HG002:\n",
      "Accuracy: 96.61%\n",
      "Precision: 96.36%\n",
      "Recall: 96.76%\n",
      "F1: 96.56%\n"
     ]
    },
    {
     "data": {
      "image/png": "[encoded data removed]",
      "text/plain": [
       "<Figure size 576x576 with 1 Axes>"
      ]
     },
     "metadata": {
      "needs_background": "light"
     },
     "output_type": "display_data"
    },
    {
     "name": "stdout",
     "output_type": "stream",
     "text": [
      "\n",
      "\n",
      "Test metrics HG002:\n",
      "Accuracy: 86.67%\n",
      "Precision: 87.89%\n",
      "Recall: 86.12%\n",
      "F1: 86.99%\n"
     ]
    },
    {
     "data": {
      "image/png": "[encoded data removed]",
      "text/plain": [
       "<Figure size 576x576 with 1 Axes>"
      ]
     },
     "metadata": {
      "needs_background": "light"
     },
     "output_type": "display_data"
    },
    {
     "name": "stdout",
     "output_type": "stream",
     "text": [
      "\n",
      "\n",
      "Training metrics HG001:\n",
      "Accuracy: 44.08%\n",
      "Precision: 45.49%\n",
      "Recall: 63.24%\n",
      "F1: 52.92%\n"
     ]
    },
    {
     "data": {
      "image/png": "[encoded data removed]",
      "text/plain": [
       "<Figure size 576x576 with 1 Axes>"
      ]
     },
     "metadata": {
      "needs_background": "light"
     },
     "output_type": "display_data"
    }
   ],
   "source": [
    "clf = RandomForestClassifier(criterion='entropy',\\\n",
    "                             max_features='log2',\\\n",
    "                             min_impurity_decrease=2e-4,\\\n",
    "                             min_samples_split=15,\\\n",
    "                             min_samples_leaf=1,\\\n",
    "                             n_estimators=795,\\\n",
    "                             random_state=random_state,\\\n",
    "                             n_jobs=n_jobs\n",
    "                            )\n",
    "\n",
    "clf.fit(X_train_HG002, y_train_HG002)\n",
    "\n",
    "print(\"Training metrics HG002:\")\n",
    "pred_train = clf.predict(X_train_HG002)\n",
    "show_metrics(y_train_HG002, pred_train)\n",
    "\n",
    "print(\"\\n\\nTest metrics HG002:\")\n",
    "pred_test = clf.predict(X_test_HG002)\n",
    "show_metrics(y_test_HG002, pred_test)\n",
    "\n",
    "print(\"\\n\\nTraining metrics HG001:\")\n",
    "pred_train = clf.predict(X_train_HG001)\n",
    "show_metrics(y_train_HG001, pred_train)"
   ]
  },
  {
   "cell_type": "markdown",
   "metadata": {},
   "source": [
    "### Feature importance"
   ]
  },
  {
   "cell_type": "code",
   "execution_count": 30,
   "metadata": {},
   "outputs": [
    {
     "name": "stdout",
     "output_type": "stream",
     "text": [
      "1. InsertSizeTooSmall (0.12753655965192118)\n",
      "2. MappingErrors (0.104824600036156)\n",
      "3. CigarIndels (0.10061795970167625)\n",
      "4. Coverage (0.09216364436202407)\n",
      "5. InterChr (0.09187152477836465)\n",
      "6. Clipped (0.08528464956009289)\n",
      "7. DiscordantTandemOrientation (0.08308040975293754)\n",
      "8. MAPQ0 (0.08109433280751625)\n",
      "9. MateUnmapped (0.08075211262651108)\n",
      "10. ForwardInsertSizeTooBig (0.07919918091921568)\n",
      "11. InsertSizeTooBig (0.07357502580358442)\n"
     ]
    }
   ],
   "source": [
    "signal_importance = clf.feature_importances_.reshape(-1, window_size).sum(1)\n",
    "indices = np.argsort(signal_importance)[::-1]\n",
    "\n",
    "for i in range(signal_importance.shape[0]):\n",
    "    print(f\"{i+1}. {SIGNALS[indices[i]].name} ({signal_importance[indices[i]]})\")"
   ]
  },
  {
   "cell_type": "markdown",
   "metadata": {},
   "source": [
    "Might be hard for Random Forest to use Coverage to the best of its potential, convolutions might make better use of coverage signal"
   ]
  },
  {
   "cell_type": "code",
   "execution_count": 28,
   "metadata": {},
   "outputs": [
    {
     "name": "stdout",
     "output_type": "stream",
     "text": [
      "Feature ranking:\n"
     ]
    },
    {
     "ename": "NameError",
     "evalue": "name 'X' is not defined",
     "output_type": "error",
     "traceback": [
      "\u001b[0;31m---------------------------------------------------------------------------\u001b[0m",
      "\u001b[0;31mNameError\u001b[0m                                 Traceback (most recent call last)",
      "\u001b[0;32m<ipython-input-28-3412069dfc2b>\u001b[0m in \u001b[0;36m<module>\u001b[0;34m\u001b[0m\n\u001b[1;32m      7\u001b[0m \u001b[0mprint\u001b[0m\u001b[0;34m(\u001b[0m\u001b[0;34m\"Feature ranking:\"\u001b[0m\u001b[0;34m)\u001b[0m\u001b[0;34m\u001b[0m\u001b[0;34m\u001b[0m\u001b[0m\n\u001b[1;32m      8\u001b[0m \u001b[0;34m\u001b[0m\u001b[0m\n\u001b[0;32m----> 9\u001b[0;31m \u001b[0;32mfor\u001b[0m \u001b[0mf\u001b[0m \u001b[0;32min\u001b[0m \u001b[0mrange\u001b[0m\u001b[0;34m(\u001b[0m\u001b[0mX\u001b[0m\u001b[0;34m.\u001b[0m\u001b[0mshape\u001b[0m\u001b[0;34m[\u001b[0m\u001b[0;36m1\u001b[0m\u001b[0;34m]\u001b[0m\u001b[0;34m)\u001b[0m\u001b[0;34m:\u001b[0m\u001b[0;34m\u001b[0m\u001b[0;34m\u001b[0m\u001b[0m\n\u001b[0m\u001b[1;32m     10\u001b[0m     \u001b[0mprint\u001b[0m\u001b[0;34m(\u001b[0m\u001b[0;34m\"%d. feature %d, %s, (%f)\"\u001b[0m \u001b[0;34m%\u001b[0m \u001b[0;34m(\u001b[0m\u001b[0mf\u001b[0m \u001b[0;34m+\u001b[0m \u001b[0;36m1\u001b[0m\u001b[0;34m,\u001b[0m \u001b[0mindices\u001b[0m\u001b[0;34m[\u001b[0m\u001b[0mf\u001b[0m\u001b[0;34m]\u001b[0m\u001b[0;34m,\u001b[0m \u001b[0mSIGNALS\u001b[0m\u001b[0;34m[\u001b[0m\u001b[0mint\u001b[0m\u001b[0;34m(\u001b[0m\u001b[0mindices\u001b[0m\u001b[0;34m[\u001b[0m\u001b[0mf\u001b[0m\u001b[0;34m]\u001b[0m\u001b[0;34m/\u001b[0m\u001b[0mwindow_size\u001b[0m\u001b[0;34m)\u001b[0m\u001b[0;34m]\u001b[0m\u001b[0;34m.\u001b[0m\u001b[0mname\u001b[0m\u001b[0;34m,\u001b[0m \u001b[0mimportances\u001b[0m\u001b[0;34m[\u001b[0m\u001b[0mindices\u001b[0m\u001b[0;34m[\u001b[0m\u001b[0mf\u001b[0m\u001b[0;34m]\u001b[0m\u001b[0;34m]\u001b[0m\u001b[0;34m)\u001b[0m\u001b[0;34m)\u001b[0m\u001b[0;34m\u001b[0m\u001b[0;34m\u001b[0m\u001b[0m\n\u001b[1;32m     11\u001b[0m \u001b[0;34m\u001b[0m\u001b[0m\n",
      "\u001b[0;31mNameError\u001b[0m: name 'X' is not defined"
     ]
    }
   ],
   "source": [
    "importances = clf.feature_importances_\n",
    "std = np.std([tree.feature_importances_ for tree in clf.estimators_],\n",
    "             axis=0)\n",
    "indices = np.argsort(importances)[::-1]\n",
    "\n",
    "# Print the feature ranking\n",
    "print(\"Feature ranking:\")\n",
    "\n",
    "for f in range(X.shape[1]):\n",
    "    print(\"%d. feature %d, %s, (%f)\" % (f + 1, indices[f], SIGNALS[int(indices[f]/window_size)].name, importances[indices[f]]))\n",
    "\n",
    "# Plot the impurity-based feature importances of the forest\n",
    "plt.figure()\n",
    "plt.title(\"Feature importances\")\n",
    "plt.bar(range(X.shape[1]), importances[indices],\n",
    "        color=\"r\", yerr=std[indices], align=\"center\")\n",
    "plt.xticks(range(X.shape[1]), indices)\n",
    "plt.xlim([-1, X.shape[1]])\n",
    "plt.show()"
   ]
  },
  {
   "cell_type": "code",
   "execution_count": null,
   "metadata": {},
   "outputs": [],
   "source": []
  }
 ],
 "metadata": {
  "kernelspec": {
   "display_name": "Python 3",
   "language": "python",
   "name": "python3"
  },
  "language_info": {
   "codemirror_mode": {
    "name": "ipython",
    "version": 3
   },
   "file_extension": ".py",
   "mimetype": "text/x-python",
   "name": "python",
   "nbconvert_exporter": "python",
   "pygments_lexer": "ipython3",
   "version": "3.8.3"
  },
  "toc-autonumbering": false,
  "toc-showcode": false,
  "toc-showmarkdowntxt": false
 },
 "nbformat": 4,
 "nbformat_minor": 4
}
