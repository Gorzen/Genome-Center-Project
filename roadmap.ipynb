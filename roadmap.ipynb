{
 "cells": [
  {
   "cell_type": "markdown",
   "metadata": {},
   "source": [
    "# Project roadmap and code"
   ]
  },
  {
   "cell_type": "markdown",
   "metadata": {},
   "source": [
    "## Table of contents\n",
    "1. [Questions](#1\\.-Questions)\n",
    "2. [Schedule](#2\\.-Schedule)\n",
    "3. [Documentation and first hands-on](#3\\.-Documentation-and-first-hands-on)\n",
    "4. [Data generation](#4\\.-Data-generation)\n",
    "5. [Data processing](#5\\.-Data-processing)\n",
    "6. [Machine learning](#6\\.-Machine-learning)"
   ]
  },
  {
   "cell_type": "markdown",
   "metadata": {},
   "source": [
    "## 1. Questions\n",
    "\n",
    "Questions I wonder are grouped here:\n",
    "\n",
    "- *In IGV usage*: **Question:** I'm not sure how to understand the vcf file in IGV, how do I know if it's an insertion or a deletion? Do the files I loaded correspond to one another?"
   ]
  },
  {
   "cell_type": "markdown",
   "metadata": {},
   "source": [
    "## 2. Schedule\n",
    "\n",
    "### Week 1\n",
    "- Meeting and get in touch with colleagues and Rick's work ✔️\n",
    "- Download data and visualize with IGV ✔️\n",
    "- Get in touch with formats (vcf, bam, ...) ✔️\n",
    "- Read gnomAD paper ✔️\n",
    "\n",
    "### Week 2\n",
    "- Look at how they extract their features in the papers\n",
    "- Extract data with Canevas from one genome of Genome in a Bottle\n",
    "- Load data and pre-process it if needed ✔️\n",
    "- Split train test (deletions -> split randomly in train/test)\n",
    "- Compare our features to theirs\n",
    "- Start running model if time\n",
    "\n",
    "### Week 3\n",
    "- Process data in python (train, test)\n",
    "- Start constructing models, using multiple filters as inputs and VCF as output\n",
    "    - Random forest for feature importance? to rank filters\n",
    "    - Deep learning?\n",
    "    - Adaboost?\n",
    "\n",
    "### Week 4\n",
    "- Continue machine learning models\n",
    "- Validate, compute performance\n",
    "\n",
    "### Week 5\n",
    "To be determined... (if work left, enough time, ...)"
   ]
  },
  {
   "cell_type": "markdown",
   "metadata": {},
   "source": [
    "## 3. Documentation and first hands-on\n",
    "\n",
    "This section will contain the steps done towards documentation, data exploration, IGV usage"
   ]
  },
  {
   "cell_type": "markdown",
   "metadata": {},
   "source": [
    "### IGV usage\n",
    "\n",
    "First, I downloaded [IGV 2.8.3](http://software.broadinstitute.org/software/igv/download) for Linux\n",
    "\n",
    "Then I downloaded this data [here](ftp://ftp-trace.ncbi.nlm.nih.gov/ReferenceSamples/giab/data/NA12878/NA12878_PacBio_MtSinai/) from [Genome in a Bottle](https://www.nist.gov/programs-projects/genome-bottle):\n",
    "- `NA12878.sorted.vcf.gz`\n",
    "- `NA12878.sorted.vcf.gz.tbi`\n",
    "- `README.txt`\n",
    "- `merged_ec_output_primary.bam`\n",
    "- `merged_ec_output_primary.bam.bai`\n",
    "\n",
    "I tried to load `NA12878.sorted.vcf.gz` and `merged_ec_output_primary.bam` in IGV but there was a parsing error in the vcf file:\n",
    "- I realized line 4 `#contig=<ID=chr1,...` was missing a `#` at the begginning\n",
    "- I had to change the spaces in the header line to `\\t`\n",
    "\n",
    "I then was able to load the two files in IGV and have a visualization:\n",
    "\n",
    "**Question:** I'm not sure how to understand the vcf file in IGV, how do I know if it's an insertion or a deletion? Do the files I loaded correspond to one another?"
   ]
  },
  {
   "cell_type": "markdown",
   "metadata": {},
   "source": [
    "![IGV image](images/igv-NA12878-1.png)"
   ]
  },
  {
   "cell_type": "markdown",
   "metadata": {},
   "source": [
    "## 4. Data generation\n",
    "\n",
    "This section will contain the steps done towards data creation with [Canevas](https://github.com/rick-heig/canevas), different filters used"
   ]
  },
  {
   "cell_type": "markdown",
   "metadata": {},
   "source": [
    "The `bam` file I had was in long reads, thus it wasn't usable in Canevas and wasn't the format we want.\n",
    "\n",
    "I asked the Genome Center for a short reads `bam` file on one chromosome and for now Rick gave me data generated with Canevas on `Guipponi.NA12878-A.mdup.sorted.bam.bqsr.bam` for chromosome 21 to start with"
   ]
  },
  {
   "cell_type": "code",
   "execution_count": null,
   "metadata": {},
   "outputs": [],
   "source": []
  },
  {
   "cell_type": "markdown",
   "metadata": {},
   "source": [
    "## 5. Data processing\n",
    "\n",
    "This section will contain the steps done towards data processing in order to use it in the machine learning pipeline"
   ]
  },
  {
   "cell_type": "markdown",
   "metadata": {},
   "source": [
    "There is a *lot* of data, we can't load all signals for the whole chromosome at the same time.\n",
    "\n",
    "When training, we have to get part of the data, train on it and get next chunk. Otherwise we won't have enough memory\n",
    "\n",
    "To do that, I decided to go for an object-oriented approach, since I want the 'readers' to have states. I ask for the next batch and it returns it, keeping the values already loaded.\n",
    "\n",
    "That way later I should be able to load a batch of each signal, split the batch in mini_batches, train the model on them and then load the next batches."
   ]
  },
  {
   "cell_type": "code",
   "execution_count": 86,
   "metadata": {},
   "outputs": [],
   "source": [
    "import time\n",
    "import numpy as np\n",
    "import pandas as pd\n",
    "import matplotlib.pyplot as plt\n",
    "from pybedtools import BedTool"
   ]
  },
  {
   "cell_type": "code",
   "execution_count": 122,
   "metadata": {},
   "outputs": [],
   "source": [
    "metadata_size = 3 # Number of metadata lines in bedgraph\n",
    "\n",
    "chunk_size = 10000 # Number of lines read on bedgraph per iter\n",
    "batch_size = 5000 # Number of values returned by SignalExtractor when asked for a batch"
   ]
  },
  {
   "cell_type": "code",
   "execution_count": 126,
   "metadata": {},
   "outputs": [],
   "source": [
    "class SignalExtractor():\n",
    "    def __init__(self, bedgraph, data_dir='data/', metadata_size=metadata_size):\n",
    "        self.bedgraph = BedTool(f'{data_dir}{bedgraph}')\n",
    "        self.metadata_size = metadata_size\n",
    "        self.skiprows = metadata_size # Remove metadata\n",
    "        self.chunks_available = True\n",
    "        self.remaining_values = np.array([])\n",
    "        \n",
    "        \n",
    "    def get_next_batch(self):\n",
    "        \"\"\"\n",
    "        Get next batch, which will have the `batch_size` next values. Can be smaller if there aren't enough values left\n",
    "        \"\"\"\n",
    "        assert(self.chunks_available)\n",
    "        \n",
    "        if self.remaining_values.shape[0] >= batch_size:\n",
    "            # There are enough values already read\n",
    "            temp = self.remaining_values[:batch_size]\n",
    "            self.remaining_values = self.remaining_values[batch_size:]\n",
    "            return temp\n",
    "        \n",
    "        # Read next values\n",
    "        df = self.bedgraph.to_dataframe(skiprows=self.skiprows, nrows=chunk_size)\n",
    "        assert(df.isnull().sum().sum() == 0) # Check no missing values\n",
    "        self.skiprows += len(df)\n",
    "        \n",
    "        # If there aren't as many rows as asked for, we are at the end of the file\n",
    "        if len(df) < chunk_size:\n",
    "            self.chunks_available = False\n",
    "        \n",
    "        # Repeat values the stated amount of time, since we want a continuous array of data\n",
    "        df['repeat'] = df['end'] - df['start']\n",
    "        df = df.rename(columns={'name': 'value'})\n",
    "        df = df.drop(columns=['chrom', 'start', 'end'])\n",
    "        df = df.reindex(df.index.repeat(df['repeat'])).reset_index(drop=True)\n",
    "        df = df.drop(columns=['repeat'])\n",
    "        \n",
    "        # Put values in numpy and concatenate with previously loaded data\n",
    "        values = df['value'].values\n",
    "        values = np.concatenate([self.remaining_values, values])\n",
    "        \n",
    "        # Save remaining values and return batch\n",
    "        self.remaining_values = values[batch_size:]\n",
    "        return values[:batch_size]\n",
    "        \n",
    "        \n",
    "    def has_next(self):\n",
    "        return self.chunks_available\n",
    "        \n",
    "        \n",
    "    def reset(self):\n",
    "        self.skiprows = self.metadata_size\n",
    "        self.chunks_available = True\n",
    "        self.remaining_values = np.array([])"
   ]
  },
  {
   "cell_type": "code",
   "execution_count": 127,
   "metadata": {},
   "outputs": [],
   "source": [
    "coverage = SignalExtractor('chr21_Coverage.bedgraph.gz')"
   ]
  },
  {
   "cell_type": "code",
   "execution_count": 128,
   "metadata": {},
   "outputs": [
    {
     "data": {
      "image/png": "[encoded data removed]",
      "text/plain": [
       "<Figure size 432x288 with 1 Axes>"
      ]
     },
     "metadata": {
      "needs_background": "light"
     },
     "output_type": "display_data"
    },
    {
     "ename": "KeyboardInterrupt",
     "evalue": "",
     "output_type": "error",
     "traceback": [
      "\u001b[0;31m---------------------------------------------------------------------------\u001b[0m",
      "\u001b[0;31mKeyboardInterrupt\u001b[0m                         Traceback (most recent call last)",
      "\u001b[0;32m<ipython-input-128-b26cad7ae6a7>\u001b[0m in \u001b[0;36m<module>\u001b[0;34m\u001b[0m\n\u001b[1;32m      4\u001b[0m     \u001b[0mplt\u001b[0m\u001b[0;34m.\u001b[0m\u001b[0mplot\u001b[0m\u001b[0;34m(\u001b[0m\u001b[0mcoverage\u001b[0m\u001b[0;34m.\u001b[0m\u001b[0mget_next_batch\u001b[0m\u001b[0;34m(\u001b[0m\u001b[0;34m)\u001b[0m\u001b[0;34m)\u001b[0m\u001b[0;34m\u001b[0m\u001b[0;34m\u001b[0m\u001b[0m\n\u001b[1;32m      5\u001b[0m     \u001b[0mplt\u001b[0m\u001b[0;34m.\u001b[0m\u001b[0mshow\u001b[0m\u001b[0;34m(\u001b[0m\u001b[0;34m)\u001b[0m\u001b[0;34m\u001b[0m\u001b[0;34m\u001b[0m\u001b[0m\n\u001b[0;32m----> 6\u001b[0;31m     \u001b[0mtime\u001b[0m\u001b[0;34m.\u001b[0m\u001b[0msleep\u001b[0m\u001b[0;34m(\u001b[0m\u001b[0;36m0.5\u001b[0m\u001b[0;34m)\u001b[0m\u001b[0;34m\u001b[0m\u001b[0;34m\u001b[0m\u001b[0m\n\u001b[0m\u001b[1;32m      7\u001b[0m     \u001b[0mclear_output\u001b[0m\u001b[0;34m(\u001b[0m\u001b[0mwait\u001b[0m\u001b[0;34m=\u001b[0m\u001b[0;32mTrue\u001b[0m\u001b[0;34m)\u001b[0m\u001b[0;34m\u001b[0m\u001b[0;34m\u001b[0m\u001b[0m\n",
      "\u001b[0;31mKeyboardInterrupt\u001b[0m: "
     ]
    }
   ],
   "source": [
    "while coverage.has_next():\n",
    "    plt.plot(coverage.get_next_batch())\n",
    "    plt.show()\n",
    "    time.sleep(0.5)\n",
    "    clear_output(wait=True)"
   ]
  },
  {
   "cell_type": "code",
   "execution_count": 129,
   "metadata": {},
   "outputs": [],
   "source": [
    "clipped = SignalExtractor('chr21_Clipped.bedgraph.gz')"
   ]
  },
  {
   "cell_type": "code",
   "execution_count": 130,
   "metadata": {},
   "outputs": [
    {
     "data": {
      "image/png": "[encoded data removed]",
      "text/plain": [
       "<Figure size 432x288 with 1 Axes>"
      ]
     },
     "metadata": {
      "needs_background": "light"
     },
     "output_type": "display_data"
    },
    {
     "ename": "KeyboardInterrupt",
     "evalue": "",
     "output_type": "error",
     "traceback": [
      "\u001b[0;31m---------------------------------------------------------------------------\u001b[0m",
      "\u001b[0;31mKeyboardInterrupt\u001b[0m                         Traceback (most recent call last)",
      "\u001b[0;32m<ipython-input-130-8622c23fbfbb>\u001b[0m in \u001b[0;36m<module>\u001b[0;34m\u001b[0m\n\u001b[1;32m      2\u001b[0m     \u001b[0mplt\u001b[0m\u001b[0;34m.\u001b[0m\u001b[0mplot\u001b[0m\u001b[0;34m(\u001b[0m\u001b[0mclipped\u001b[0m\u001b[0;34m.\u001b[0m\u001b[0mget_next_batch\u001b[0m\u001b[0;34m(\u001b[0m\u001b[0;34m)\u001b[0m\u001b[0;34m)\u001b[0m\u001b[0;34m\u001b[0m\u001b[0;34m\u001b[0m\u001b[0m\n\u001b[1;32m      3\u001b[0m     \u001b[0mplt\u001b[0m\u001b[0;34m.\u001b[0m\u001b[0mshow\u001b[0m\u001b[0;34m(\u001b[0m\u001b[0;34m)\u001b[0m\u001b[0;34m\u001b[0m\u001b[0;34m\u001b[0m\u001b[0m\n\u001b[0;32m----> 4\u001b[0;31m     \u001b[0mtime\u001b[0m\u001b[0;34m.\u001b[0m\u001b[0msleep\u001b[0m\u001b[0;34m(\u001b[0m\u001b[0;36m0.5\u001b[0m\u001b[0;34m)\u001b[0m\u001b[0;34m\u001b[0m\u001b[0;34m\u001b[0m\u001b[0m\n\u001b[0m\u001b[1;32m      5\u001b[0m     \u001b[0mclear_output\u001b[0m\u001b[0;34m(\u001b[0m\u001b[0mwait\u001b[0m\u001b[0;34m=\u001b[0m\u001b[0;32mTrue\u001b[0m\u001b[0;34m)\u001b[0m\u001b[0;34m\u001b[0m\u001b[0;34m\u001b[0m\u001b[0m\n",
      "\u001b[0;31mKeyboardInterrupt\u001b[0m: "
     ]
    }
   ],
   "source": [
    "while clipped.has_next():\n",
    "    plt.plot(clipped.get_next_batch())\n",
    "    plt.show()\n",
    "    time.sleep(0.5)\n",
    "    clear_output(wait=True)"
   ]
  },
  {
   "cell_type": "markdown",
   "metadata": {},
   "source": [
    "## 6. Machine learning"
   ]
  },
  {
   "cell_type": "code",
   "execution_count": null,
   "metadata": {},
   "outputs": [],
   "source": []
  }
 ],
 "metadata": {
  "kernelspec": {
   "display_name": "Python 3",
   "language": "python",
   "name": "python3"
  },
  "language_info": {
   "codemirror_mode": {
    "name": "ipython",
    "version": 3
   },
   "file_extension": ".py",
   "mimetype": "text/x-python",
   "name": "python",
   "nbconvert_exporter": "python",
   "pygments_lexer": "ipython3",
   "version": "3.8.3"
  },
  "toc-autonumbering": false,
  "toc-showcode": false,
  "toc-showmarkdowntxt": false
 },
 "nbformat": 4,
 "nbformat_minor": 4
}
